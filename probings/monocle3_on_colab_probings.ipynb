{
  "nbformat": 4,
  "nbformat_minor": 0,
  "metadata": {
    "colab": {
      "name": "monocle3_on_colab_probings.ipynb",
      "version": "0.3.2",
      "provenance": [],
      "collapsed_sections": []
    },
    "language_info": {
      "codemirror_mode": "r",
      "file_extension": ".r",
      "mimetype": "text/x-r-source",
      "name": "R",
      "pygments_lexer": "r",
      "version": "3.3.1"
    },
    "kernelspec": {
      "display_name": "R",
      "language": "R",
      "name": "ir"
    }
  },
  "cells": [
    {
      "cell_type": "markdown",
      "metadata": {
        "id": "CCjaGrDHAZUL",
        "colab_type": "text"
      },
      "source": [
        "# Monocle3 on Colab\n",
        "\n",
        "This notebook simple tests to see if Monocle3 can be deployed on Colab. It can.\n",
        "\n",
        "On 2019-06-18 JFT found IRkernel's Demo.html via [stackoverflow: How to use R with Google Colaboratory?](https://stackoverflow.com/a/54595286). I.e starting from a demo page ([Demo.ipynb](https://github.com/IRkernel/IRkernel/blob/master/example-notebooks/Demo.ipynb)) of IRkernel which is [MIT licensed](https://github.com/IRkernel/IRkernel/blob/master/DESCRIPTION#L20) this page was built out on Colab. \n",
        "\n",
        "The core point is to start with Demo.ipynb because is has the JSON metadata to specify that the notebook is designed for an R kernel, and Colab will provide:\n",
        "```\n",
        "{\n",
        "  \"nbformat\": 4,\n",
        "  \"nbformat_minor\": 0,\n",
        "  \"metadata\": {\n",
        "    \"language_info\": {\n",
        "      \"codemirror_mode\": \"r\",\n",
        "      \"file_extension\": \".r\",\n",
        "      \"mimetype\": \"text/x-r-source\",\n",
        "      \"name\": \"R\",\n",
        "      \"pygments_lexer\": \"r\",\n",
        "      \"version\": \"3.3.1\"\n",
        "    },\n",
        "    \"kernelspec\": {\n",
        "      \"display_name\": \"R\",\n",
        "      \"language\": \"R\",\n",
        "      \"name\": \"ir\"\n",
        "    }\n",
        "  }...\n",
        "```\n"
      ]
    },
    {
      "cell_type": "code",
      "metadata": {
        "id": "nUIdq9Dm_QB0",
        "colab_type": "code",
        "colab": {}
      },
      "source": [
        "# The following needs to happen before installing Monocle, otherwise\n",
        "# various support libraries (e.g. units) will not install on Colab.\n",
        "\n",
        "# via https://github.com/datacarpentry/r-raster-vector-geospatial/issues/138#issue-313014296\n",
        "#!apt-get -qq install -y libudunits2-dev libgdal-dev libgeos-dev libproj-dev \n",
        "\n",
        "# Unfortuneately, IRkernel does not seem to handle !apt-get magic so it has\n",
        "# to be run in a Python notebook (on the same Colab VM) to do the install."
      ],
      "execution_count": 0,
      "outputs": []
    },
    {
      "cell_type": "code",
      "metadata": {
        "id": "w7LZ8_QgAnHt",
        "colab_type": "code",
        "colab": {
          "base_uri": "https://localhost:8080/",
          "height": 347
        },
        "outputId": "bc388f1b-72fb-4841-f94e-ab142c69caf1"
      },
      "source": [
        "if (!requireNamespace(\"BiocManager\", quietly = TRUE))\n",
        "    install.packages(\"BiocManager\")\n",
        "BiocManager::install()\n"
      ],
      "execution_count": 1,
      "outputs": [
        {
          "output_type": "stream",
          "text": [
            "Installing package into ‘/usr/local/lib/R/site-library’\n",
            "(as ‘lib’ is unspecified)\n",
            "Bioconductor version 3.9 (BiocManager 1.30.4), R 3.6.0 (2019-04-26)\n",
            "Installing package(s) 'BiocVersion'\n",
            "Update old packages: 'askpass', 'assertthat', 'backports', 'base64enc', 'BH',\n",
            "  'broom', 'callr', 'cellranger', 'cli', 'clipr', 'clisymbols', 'colorspace',\n",
            "  'crayon', 'curl', 'DBI', 'dbplyr', 'desc', 'devtools', 'ellipsis',\n",
            "  'evaluate', 'fansi', 'forcats', 'gdtools', 'generics', 'ggplot2', 'gh',\n",
            "  'git2r', 'glue', 'gtable', 'haven', 'highr', 'hms', 'htmltools', 'httr',\n",
            "  'ini', 'jsonlite', 'labeling', 'lazyeval', 'littler', 'lubridate',\n",
            "  'magrittr', 'markdown', 'memoise', 'mime', 'modelr', 'munsell', 'openssl',\n",
            "  'pillar', 'pkgbuild', 'pkgconfig', 'pkgKitten', 'pkgload', 'plogr', 'plyr',\n",
            "  'prettyunits', 'ps', 'purrr', 'R6', 'RColorBrewer', 'Rcpp', 'readr',\n",
            "  'readxl', 'rematch', 'remotes', 'reshape2', 'rlang', 'rprojroot',\n",
            "  'rstudioapi', 'scales', 'selectr', 'sessioninfo', 'stringi', 'stringr',\n",
            "  'tibble', 'tidyr', 'tidyselect', 'tidyverse', 'usethis', 'utf8', 'uuid',\n",
            "  'viridisLite', 'whisker', 'withr', 'xml2', 'xopen', 'yaml', 'zeallot',\n",
            "  'class', 'cluster', 'codetools', 'foreign', 'KernSmooth', 'lattice',\n",
            "  'Matrix', 'mgcv', 'nnet', 'rpart', 'spatial', 'survival'\n"
          ],
          "name": "stderr"
        }
      ]
    },
    {
      "cell_type": "code",
      "metadata": {
        "id": "R2GMN-IQCv5R",
        "colab_type": "code",
        "colab": {}
      },
      "source": [
        "# JFT\n",
        "# issue: Skipping 8 packages not available: Biobase, BiocGenerics, DelayedArray, DelayedMatrixStats, limma, S4Vectors, SingleCellExperiment, SummarizedExperiment\n",
        "# So,\n",
        "# explicitly installing these seemed to help:\n",
        "BiocManager::install(\"Biobase\")\n",
        "BiocManager::install(\"DelayedArray\")\n",
        "BiocManager::install(\"DelayedMatrixStats\")\n",
        "BiocManager::install(\"limma\")\n",
        "BiocManager::install(\"S4Vectors\")\n",
        "BiocManager::install(\"SingleCellExperiment\")\n",
        "BiocManager::install(\"SummarizedExperiment\")\n"
      ],
      "execution_count": 0,
      "outputs": []
    },
    {
      "cell_type": "code",
      "metadata": {
        "id": "cacmXTCiA3dw",
        "colab_type": "code",
        "colab": {
          "base_uri": "https://localhost:8080/",
          "height": 436
        },
        "outputId": "a83bb487-85b8-41ca-ec9f-a6a28a01a177"
      },
      "source": [
        "devtools::install_github('cole-trapnell-lab/monocle3')\n"
      ],
      "execution_count": 19,
      "outputs": [
        {
          "output_type": "stream",
          "text": [
            "Downloading GitHub repo cole-trapnell-lab/monocle3@master\n"
          ],
          "name": "stderr"
        },
        {
          "output_type": "stream",
          "text": [
            "crosstalk (NA -> 1.0.0) [CRAN]\n",
            "ggrepel   (NA -> 0.8.1) [CRAN]\n",
            "plotly    (NA -> 4.9.0) [CRAN]\n",
            "sf        (NA -> 0.7-4) [CRAN]\n",
            "shiny     (NA -> 1.3.2) [CRAN]\n",
            "spdep     (NA -> 1.1-2) [CRAN]\n",
            "uwot      (NA -> 0.1.3) [CRAN]\n",
            "viridis   (NA -> 0.5.1) [CRAN]\n"
          ],
          "name": "stdout"
        },
        {
          "output_type": "stream",
          "text": [
            "Skipping 8 packages not available: Biobase, BiocGenerics, DelayedArray, DelayedMatrixStats, limma, S4Vectors, SingleCellExperiment, SummarizedExperiment\n",
            "Installing 8 packages: crosstalk, ggrepel, plotly, sf, shiny, spdep, uwot, viridis\n",
            "Installing packages into ‘/usr/local/lib/R/site-library’\n",
            "(as ‘lib’ is unspecified)\n"
          ],
          "name": "stderr"
        },
        {
          "output_type": "stream",
          "text": [
            "\u001b[32m✔\u001b[39m  \u001b[90mchecking for file ‘/tmp/RtmpT31OZ2/remotesa27d79fc24/cole-trapnell-lab-monocle3-7427951/DESCRIPTION’\u001b[39m\u001b[36m\u001b[39m\n",
            "\u001b[90m─\u001b[39m\u001b[90m  \u001b[39m\u001b[90mpreparing ‘monocle3’:\u001b[39m\u001b[36m\u001b[39m\n",
            "\u001b[32m✔\u001b[39m  \u001b[90mchecking DESCRIPTION meta-information\u001b[39m\u001b[36m\u001b[39m\n",
            "\u001b[90m─\u001b[39m\u001b[90m  \u001b[39m\u001b[90mcleaning src\u001b[39m\u001b[36m\u001b[39m\n",
            "\u001b[90m─\u001b[39m\u001b[90m  \u001b[39m\u001b[90mchecking for LF line-endings in source and make files and shell scripts\u001b[39m\u001b[36m\u001b[39m\n",
            "\u001b[90m─\u001b[39m\u001b[90m  \u001b[39m\u001b[90mchecking for empty or unneeded directories\u001b[39m\u001b[36m\u001b[39m\n",
            "\u001b[90m─\u001b[39m\u001b[90m  \u001b[39m\u001b[90mbuilding ‘monocle3_0.1.0.tar.gz’\u001b[39m\u001b[36m\u001b[39m\n",
            "   \n"
          ],
          "name": "stdout"
        },
        {
          "output_type": "stream",
          "text": [
            "Installing package into ‘/usr/local/lib/R/site-library’\n",
            "(as ‘lib’ is unspecified)\n"
          ],
          "name": "stderr"
        }
      ]
    },
    {
      "cell_type": "code",
      "metadata": {
        "id": "KWyaAIF_MGYt",
        "colab_type": "code",
        "colab": {}
      },
      "source": [
        ""
      ],
      "execution_count": 0,
      "outputs": []
    },
    {
      "cell_type": "code",
      "metadata": {
        "id": "Yx3QMrqhbx6J",
        "colab_type": "code",
        "colab": {
          "base_uri": "https://localhost:8080/",
          "height": 1283
        },
        "outputId": "84602f5d-8019-4367-c383-0d21c3be1288"
      },
      "source": [
        "# The following is the recommended way to test an install of Monocle3:\n",
        "library(monocle3)"
      ],
      "execution_count": 20,
      "outputs": [
        {
          "output_type": "stream",
          "text": [
            "Loading required package: Biobase\n",
            "Loading required package: BiocGenerics\n",
            "Loading required package: parallel\n",
            "\n",
            "Attaching package: ‘BiocGenerics’\n",
            "\n",
            "The following objects are masked from ‘package:parallel’:\n",
            "\n",
            "    clusterApply, clusterApplyLB, clusterCall, clusterEvalQ,\n",
            "    clusterExport, clusterMap, parApply, parCapply, parLapply,\n",
            "    parLapplyLB, parRapply, parSapply, parSapplyLB\n",
            "\n",
            "The following objects are masked from ‘package:stats’:\n",
            "\n",
            "    IQR, mad, sd, var, xtabs\n",
            "\n",
            "The following objects are masked from ‘package:base’:\n",
            "\n",
            "    anyDuplicated, append, as.data.frame, basename, cbind, colnames,\n",
            "    dirname, do.call, duplicated, eval, evalq, Filter, Find, get, grep,\n",
            "    grepl, intersect, is.unsorted, lapply, Map, mapply, match, mget,\n",
            "    order, paste, pmax, pmax.int, pmin, pmin.int, Position, rank,\n",
            "    rbind, Reduce, rownames, sapply, setdiff, sort, table, tapply,\n",
            "    union, unique, unsplit, which, which.max, which.min\n",
            "\n",
            "Welcome to Bioconductor\n",
            "\n",
            "    Vignettes contain introductory material; view with\n",
            "    'browseVignettes()'. To cite Bioconductor, see\n",
            "    'citation(\"Biobase\")', and for packages 'citation(\"pkgname\")'.\n",
            "\n",
            "Loading required package: SingleCellExperiment\n",
            "Loading required package: SummarizedExperiment\n",
            "Loading required package: GenomicRanges\n",
            "Loading required package: stats4\n",
            "Loading required package: S4Vectors\n",
            "\n",
            "Attaching package: ‘S4Vectors’\n",
            "\n",
            "The following object is masked from ‘package:base’:\n",
            "\n",
            "    expand.grid\n",
            "\n",
            "Loading required package: IRanges\n",
            "Loading required package: GenomeInfoDb\n",
            "Loading required package: DelayedArray\n",
            "Loading required package: matrixStats\n",
            "\n",
            "Attaching package: ‘matrixStats’\n",
            "\n",
            "The following objects are masked from ‘package:Biobase’:\n",
            "\n",
            "    anyMissing, rowMedians\n",
            "\n",
            "Loading required package: BiocParallel\n",
            "\n",
            "Attaching package: ‘DelayedArray’\n",
            "\n",
            "The following objects are masked from ‘package:matrixStats’:\n",
            "\n",
            "    colMaxs, colMins, colRanges, rowMaxs, rowMins, rowRanges\n",
            "\n",
            "The following objects are masked from ‘package:base’:\n",
            "\n",
            "    aperm, apply, rowsum\n",
            "\n",
            "\n",
            "Attaching package: ‘monocle3’\n",
            "\n",
            "The following objects are masked from ‘package:Biobase’:\n",
            "\n",
            "    exprs, fData, fData<-, pData, pData<-\n",
            "\n"
          ],
          "name": "stderr"
        }
      ]
    }
  ]
}