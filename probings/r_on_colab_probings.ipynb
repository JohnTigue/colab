{
  "nbformat": 4,
  "nbformat_minor": 0,
  "metadata": {
    "colab": {
      "name": "r_on_colab_probings.ipynb",
      "version": "0.3.2",
      "provenance": [],
      "collapsed_sections": [],
      "toc_visible": true
    },
    "language_info": {
      "codemirror_mode": "r",
      "file_extension": ".r",
      "mimetype": "text/x-r-source",
      "name": "R",
      "pygments_lexer": "r",
      "version": "3.3.1"
    },
    "kernelspec": {
      "display_name": "R",
      "language": "R",
      "name": "ir"
    }
  },
  "cells": [
    {
      "cell_type": "markdown",
      "metadata": {
        "id": "7z9o8Lmj8Piy",
        "colab_type": "text"
      },
      "source": [
        "# R on Colab\n",
        "\n",
        "This is an R notebook coded up simply to test some basics of R code running on Colab. It seems that Google plans to fully support R but that it's still in the works. Additionally, R seems to be a less matures notebook citizen. So, test probes need to be deployed. Here we are.\n",
        "\n",
        "Started this file from a file on GitHub, [Demo.ipynb](https://github.com/IRkernel/IRkernel/blob/master/example-notebooks/Demo.ipynb) which is how to get started with a notebook using R as the kernel (stuff in the files metadata JSON calling for an R kernel).\n"
      ]
    },
    {
      "cell_type": "markdown",
      "metadata": {
        "id": "BUf6oNKO_o83",
        "colab_type": "text"
      },
      "source": [
        "## 1 R HTMLWidgets \n",
        "[R HTMLWidgets in Jupyter Notebooks](https://www.r-bloggers.com/r-htmlwidgets-in-jupyter-notebooks/) has a wee snippet of htmlwidges code"
      ]
    },
    {
      "cell_type": "code",
      "metadata": {
        "id": "j-B98rJv95UM",
        "colab_type": "code",
        "outputId": "0acfc219-8fd4-4797-9383-70b5ddb5ac1f",
        "colab": {
          "base_uri": "https://localhost:8080/",
          "height": 87
        }
      },
      "source": [
        "install.packages(c(\"htmlwidgets\", \"IRdisplay\", \"leaflet\"))"
      ],
      "execution_count": 0,
      "outputs": [
        {
          "output_type": "stream",
          "text": [
            "Installing packages into ‘/usr/local/lib/R/site-library’\n",
            "(as ‘lib’ is unspecified)\n",
            "also installing the dependency ‘crosstalk’\n",
            "\n"
          ],
          "name": "stderr"
        }
      ]
    },
    {
      "cell_type": "markdown",
      "metadata": {
        "id": "zDj9nCYjBJCL",
        "colab_type": "text"
      },
      "source": [
        "Ok, installs done. Here's the test snippet. It failed probably because because not saving this demo.html in the right place on Colab for serving."
      ]
    },
    {
      "cell_type": "code",
      "metadata": {
        "id": "ha51AZ6h81rl",
        "colab_type": "code",
        "outputId": "d82ff0c6-fc3a-4fda-a06b-7e632f84ec82",
        "colab": {
          "base_uri": "https://localhost:8080/",
          "height": 175
        }
      },
      "source": [
        "# https://www.r-bloggers.com/r-htmlwidgets-in-jupyter-notebooks/\n",
        "library(htmlwidgets)\n",
        "library(IRdisplay)\n",
        "library(leaflet)\n",
        "\n",
        "m = leaflet() %>% addTiles()\n",
        "saveWidget(m, 'demo.html', selfcontained = FALSE)\n",
        "display_html('<iframe src=\"demo.html\"></iframe>')"
      ],
      "execution_count": 0,
      "outputs": [
        {
          "output_type": "display_data",
          "data": {
            "text/html": [
              "<iframe src=\"demo.html\"></iframe>"
            ]
          },
          "metadata": {
            "tags": []
          }
        }
      ]
    },
    {
      "cell_type": "code",
      "metadata": {
        "id": "lP7zS3iBLDY1",
        "colab_type": "code",
        "outputId": "b685d40e-5cec-46f1-df39-41fb58c6efc4",
        "colab": {
          "base_uri": "https://localhost:8080/",
          "height": 175
        }
      },
      "source": [
        "# just a blank box\n",
        "display_html('<iframe src=\"http://tigue.com\"></iframe>')"
      ],
      "execution_count": 0,
      "outputs": [
        {
          "output_type": "display_data",
          "data": {
            "text/html": [
              "<iframe src=\"http://tigue.com\"></iframe>"
            ]
          },
          "metadata": {
            "tags": []
          }
        }
      ]
    },
    {
      "cell_type": "code",
      "metadata": {
        "id": "kT08KUQUMK7b",
        "colab_type": "code",
        "outputId": "df2deea3-852b-43e0-fca0-9773c097c3fc",
        "colab": {
          "base_uri": "https://localhost:8080/",
          "height": 175
        }
      },
      "source": [
        "# try the original again but put demo.html where Colab can serve it.\n",
        "# via https://stackoverflow.com/a/49487396\n",
        "m = leaflet() %>% addTiles()\n",
        "saveWidget(m, '/usr/local/share/jupyter/nbextensions/google.colab/demo.html', selfcontained = FALSE)\n",
        "display_html('<iframe src=\"/nbextensions/google.colab/demo.html\"></iframe>')\n",
        "\n",
        "#    %%html\n",
        "#    <img src='/nbextensions/google.colab/image.png' />\n"
      ],
      "execution_count": 0,
      "outputs": [
        {
          "output_type": "display_data",
          "data": {
            "text/html": [
              "<iframe src=\"/nbextensions/google.colab/demo.html\"></iframe>"
            ]
          },
          "metadata": {
            "tags": []
          }
        }
      ]
    },
    {
      "cell_type": "code",
      "metadata": {
        "id": "zdPKpUprMnGn",
        "colab_type": "code",
        "outputId": "376f771a-954a-4daf-dae7-7d7a1362f3ed",
        "colab": {
          "base_uri": "https://localhost:8080/",
          "height": 97
        }
      },
      "source": [
        "list.files(\"/usr/local/share/jupyter/nbextensions/google.colab/colabwidgets\")"
      ],
      "execution_count": 0,
      "outputs": [
        {
          "output_type": "display_data",
          "data": {
            "text/plain": [
              "[1] \"controls.css\"    \"controls.dev.js\" \"controls.min.js\""
            ],
            "text/latex": "\\begin{enumerate*}\n\\item 'controls.css'\n\\item 'controls.dev.js'\n\\item 'controls.min.js'\n\\end{enumerate*}\n",
            "text/markdown": "1. 'controls.css'\n2. 'controls.dev.js'\n3. 'controls.min.js'\n\n\n",
            "text/html": [
              "<ol class=list-inline>\n",
              "\t<li>'controls.css'</li>\n",
              "\t<li>'controls.dev.js'</li>\n",
              "\t<li>'controls.min.js'</li>\n",
              "</ol>\n"
            ]
          },
          "metadata": {
            "tags": []
          }
        }
      ]
    },
    {
      "cell_type": "markdown",
      "metadata": {
        "id": "a1Jzj4ng8PjE",
        "colab_type": "text"
      },
      "source": [
        "## 2 Plotting works\n",
        "\n",
        "As per the original Demo.html:"
      ]
    },
    {
      "cell_type": "code",
      "metadata": {
        "id": "F1DKVzhv8PjF",
        "colab_type": "code",
        "colab": {}
      },
      "source": [
        "x <- seq(0, 2*pi, length.out=50)\n",
        "plot(x, sin(x))"
      ],
      "execution_count": 0,
      "outputs": []
    },
    {
      "cell_type": "markdown",
      "metadata": {
        "id": "XrAYQslFdd-g",
        "colab_type": "text"
      },
      "source": [
        "## 3 R to Altair\n",
        "\n",
        "https://vegawidget.github.io/altair/#example\n",
        "\n",
        "\"The goal of altair is to help you build Vega-Lite visualizations. Using the reticulate package, it provides an interface to the Altair Python package. This approach is distinct from efforts to build a native R interface to Vega-Lite, by Bob Rudis and coworkers: the vegalite package, which has inspired this effort.\n",
        "\n",
        "\"In this documentation, the capitalized word Altair shall refer to the Python package; the lower-case word altair shall refer to this R package.\""
      ]
    },
    {
      "cell_type": "code",
      "metadata": {
        "id": "55jS7tAieKlU",
        "colab_type": "code",
        "outputId": "250e7d24-b139-4ea1-f2af-4e5be7d269f6",
        "colab": {
          "base_uri": "https://localhost:8080/",
          "height": 72
        }
      },
      "source": [
        "devtools::install_github(\"vegawidget/altair\") "
      ],
      "execution_count": 0,
      "outputs": [
        {
          "output_type": "stream",
          "text": [
            "Skipping install of 'altair' from a github remote, the SHA1 (703ba8a5) has not changed since last install.\n",
            "  Use `force = TRUE` to force installation\n"
          ],
          "name": "stderr"
        }
      ]
    },
    {
      "cell_type": "code",
      "metadata": {
        "id": "MZggIgHheeeh",
        "colab_type": "code",
        "outputId": "f9d04187-40c6-4339-c856-fe4beb0cecac",
        "colab": {
          "base_uri": "https://localhost:8080/",
          "height": 201
        }
      },
      "source": [
        "altair::install_altair()"
      ],
      "execution_count": 0,
      "outputs": [
        {
          "output_type": "error",
          "ename": "ERROR",
          "evalue": "ignored",
          "traceback": [
            "Error: Unable to find conda binary. Is Anaconda installed?\nTraceback:\n",
            "1. altair::install_altair()",
            "2. reticulate::conda_install(packages = packages, envname = envname, \n .     pip = pip, ...)",
            "3. conda_binary(conda)",
            "4. stop(\"Unable to find conda binary. Is Anaconda installed?\", call. = FALSE)"
          ]
        }
      ]
    },
    {
      "cell_type": "code",
      "metadata": {
        "id": "nBBdTm1if0ch",
        "colab_type": "code",
        "outputId": "eac867df-28b2-4978-823b-fe8a7a0a6b9d",
        "colab": {
          "base_uri": "https://localhost:8080/",
          "height": 104
        }
      },
      "source": [
        "library(\"altair\")\n",
        "\n",
        "vega_data <- import_vega_data()\n",
        "\n",
        "chart <- \n",
        "  alt$Chart(vega_data$cars())$mark_point()\n",
        "#  $encode(\n",
        "#    x = \"Horsepower:Q\",\n",
        "#    y = \"Miles_per_Gallon:Q\",\n",
        "#    color = \"Origin:N\"\n",
        "#  )\n",
        "\n",
        "chart"
      ],
      "execution_count": 0,
      "outputs": [
        {
          "output_type": "display_data",
          "data": {
            "text/plain": [
              "<VegaLite 3 object>\n",
              "\n",
              "If you see this message, it means the renderer has not been properly enabled\n",
              "for the frontend that you are using. For more information, see\n",
              "https://altair-viz.github.io/user_guide/troubleshooting.html\n"
            ]
          },
          "metadata": {
            "tags": []
          }
        }
      ]
    }
  ]
}