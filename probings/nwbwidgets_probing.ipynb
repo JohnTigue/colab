{
  "nbformat": 4,
  "nbformat_minor": 0,
  "metadata": {
    "colab": {
      "name": "nwbwidgets_probing.ipynb",
      "version": "0.3.2",
      "provenance": [],
      "collapsed_sections": []
    },
    "kernelspec": {
      "name": "python3",
      "display_name": "Python 3"
    }
  },
  "cells": [
    {
      "cell_type": "markdown",
      "metadata": {
        "id": "2LmglrXpbNaQ",
        "colab_type": "text"
      },
      "source": [
        "# Test driving nwb-jupyter-widgets on Colab\n",
        "\n",
        "The `nwb-jupyter-widgets` repository contains Jupyter widgets (Python) for interacting with [NWB:N 2.0](https://neurodatawithoutborders.github.io/) files.\n",
        "\n",
        "NWB:N is essentially just a data format spec. In order to encourage diffusion of the innovation, the NWB community also maintains [PyNWB](https://neurodatawithoutborders.github.io/pynwb), a Python package for easily coding with NWB files.\n",
        "\n",
        "This page probes (read: installs, tests, and exercises) `PyNWB` and `nwb-jupyter-widgets` on Colab. With the goal of seeing what these widgets can do Colab."
      ]
    },
    {
      "cell_type": "markdown",
      "metadata": {
        "id": "dPCYPZB16Jn5",
        "colab_type": "text"
      },
      "source": [
        "## Table of Contents\n",
        "- **TBD** via [Manual markup](https://stackoverflow.com/a/39817243)\n",
        "- Installing nwb-jupyter-widgets on Colab\n",
        "- Exercising nwb-jupyter-widgets on Colab\n"
      ]
    },
    {
      "cell_type": "markdown",
      "metadata": {
        "id": "dCSSrQugafrl",
        "colab_type": "text"
      },
      "source": [
        "## Installing nwb-jupyter-widgets on Colab\n",
        "Colab comes with tons of libaries installed out of the box. `nwb-jupyter-widgets` is not one of them. So, the package needs to be explicitly installed.\n",
        "\n",
        "### First attempt: pip install nwb-jupyter-widgets\n",
        "This would be simply following the instructions in [README.md](https://github.com/NeurodataWithoutBorders/nwb-jupyter-widgets/blob/master/README.md). Unforutately, it fails returning: \n",
        "```\n",
        "ERROR: No matching distribution found for nwb-jupyter-widgets\n",
        "```\n",
        "\n"
      ]
    },
    {
      "cell_type": "code",
      "metadata": {
        "id": "HWP8hhPREzGr",
        "colab_type": "code",
        "colab": {}
      },
      "source": [
        "!pip install nwb-jupyter-widgets"
      ],
      "execution_count": 0,
      "outputs": []
    },
    {
      "cell_type": "markdown",
      "metadata": {
        "id": "81NRIz80gS7N",
        "colab_type": "text"
      },
      "source": [
        "### Second attempt: git clone from GitHub then pip install\n"
      ]
    },
    {
      "cell_type": "code",
      "metadata": {
        "id": "q8foL9USkyd_",
        "colab_type": "code",
        "colab": {}
      },
      "source": [
        "!git clone https://github.com/NeurodataWithoutBorders/nwb-jupyter-widgets.git\n",
        "!cd nwb-jupyter-widgets && pip install .\n",
        "# on 2019-05-24, the above ended in `Successfully installed nwbwidgets-0.1.dev36+g9d38e01`"
      ],
      "execution_count": 0,
      "outputs": []
    },
    {
      "cell_type": "markdown",
      "metadata": {
        "id": "68WJxv_mb6Xt",
        "colab_type": "text"
      },
      "source": [
        "### Third attempt: pip install via https:\n",
        "\n",
        "**TBD**"
      ]
    },
    {
      "cell_type": "code",
      "metadata": {
        "id": "hXpRWhkhk2a_",
        "colab_type": "code",
        "colab": {}
      },
      "source": [
        ""
      ],
      "execution_count": 0,
      "outputs": []
    },
    {
      "cell_type": "markdown",
      "metadata": {
        "id": "AGYAVHDYzmsU",
        "colab_type": "text"
      },
      "source": [
        "## Exercise the package\n",
        "\n",
        "The [README.md](https://github.com/NeurodataWithoutBorders/nwb-jupyter-widgets#usage) contains a usage example:\n",
        "``` python\n",
        "from pynwb import NWBHDF5IO\n",
        "from nwbwidgets import nwb2widget\n",
        "\n",
        "io = NWBHDF5IO('path/to/file.nwb', mode='r')\n",
        "nwb = io.read()\n",
        "\n",
        "nwb2widget(nwb)\n",
        "```\n",
        "Note that `pynwb` is pre-installed on Colab (nice).\n",
        "\n",
        "### An NWB file to test with\n",
        "The repo also contains an `examples` directory which includes [`allen_ecephys_session_785402239.ipynb`](https://github.com/NeurodataWithoutBorders/nwb-jupyter-widgets/blob/master/examples/allen_ecephys_session_785402239.ipynb), which uses an NWB file from [Allen Institute for Brain Science (AIBS)](https://alleninstitute.org) and feeds that to PyNWB, so let's use that data file in order to feed the above `NWBHDF5IO()` call, because seemingly that data file will work with `nwb-jupyter-widgets`.\n",
        "\n",
        "`allen_ecephys_session_785402239.ipynb` assumes the NWB data file it calls for, `ecephys_session_785402239.nwb`, is in the same directory as `allen_ecephys_session_785402239.ipynb`. This is not the case, so let's make it so."
      ]
    },
    {
      "cell_type": "code",
      "metadata": {
        "id": "CbHNoAmhzrdD",
        "colab_type": "code",
        "colab": {}
      },
      "source": [
        "from pynwb import NWBHDF5IO\n",
        "from nwbwidgets import nwb2widget\n",
        "\n",
        "\n",
        "data_path = 'ecephys_session_785402239.nwb'\n",
        "io = NWBHDF5IO(data_path, mode='r')\n",
        "nwb = io.read()\n",
        "\n",
        "nwb2widget(nwb)"
      ],
      "execution_count": 0,
      "outputs": []
    }
  ]
}