{
  "nbformat": 4,
  "nbformat_minor": 0,
  "metadata": {
    "colab": {
      "name": "nwbwidgets_probing.ipynb",
      "version": "0.3.2",
      "provenance": [],
      "collapsed_sections": []
    },
    "kernelspec": {
      "name": "python3",
      "display_name": "Python 3"
    }
  },
  "cells": [
    {
      "cell_type": "code",
      "metadata": {
        "id": "HWP8hhPREzGr",
        "colab_type": "code",
        "colab": {}
      },
      "source": [
        "!pip install nwbwidgets"
      ],
      "execution_count": 0,
      "outputs": []
    },
    {
      "cell_type": "markdown",
      "metadata": {
        "id": "8VLysJ5blHgC",
        "colab_type": "text"
      },
      "source": [
        "https://colab.research.google.com/notebooks/markdown_guide.ipynb\n"
      ]
    }
  ]
}