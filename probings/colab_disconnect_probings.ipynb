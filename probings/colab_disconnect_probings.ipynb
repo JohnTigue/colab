{
  "nbformat": 4,
  "nbformat_minor": 0,
  "metadata": {
    "colab": {
      "name": "colab_disconnect_probings.ipynb",
      "provenance": []
    },
    "kernelspec": {
      "name": "python3",
      "display_name": "Python 3"
    }
  },
  "cells": [
    {
      "cell_type": "markdown",
      "metadata": {
        "id": "hKMS_LnoZCQC",
        "colab_type": "text"
      },
      "source": [
        "# Colab disconnect probings\n",
        "\n",
        "# <img src=\"http://reconstrue.com/assets/images/reconstrue_logo_brandmark.svg\" width=\"42px\" align=\"top\" /> **Reconstrue**\n",
        "\n",
        "This code is licensed by Reconstrue under the Apache 2.0 License."
      ]
    },
    {
      "cell_type": "markdown",
      "metadata": {
        "id": "XRFhzf_2D-x3",
        "colab_type": "text"
      },
      "source": [
        "## Introduction\n",
        "\n",
        "This notebook's scope is Colab and its disconnect policies. The system will be probed in several ways to try to determine what the cut-off policies are.\n",
        "\n",
        "For more context see the project's repo on GitHub, [@reconstrue/neuro_colab](https://github.com/reconstrue/neuro_colab)."
      ]
    },
    {
      "cell_type": "markdown",
      "metadata": {
        "id": "9giLOnrN8AVe",
        "colab_type": "text"
      },
      "source": [
        "## User perspective of Colab system\n",
        "\n",
        "Rumors that should be tested:\n",
        "- [ ] Idle disconnect (30m, 90m, what?)\n",
        "- [x] JavaScript console can keep system from disconnecting\n",
        "- [ ] Max 12 no matter what\n",
        "- [ ] Max 2 notebooks running at once\n"
      ]
    },
    {
      "cell_type": "markdown",
      "metadata": {
        "id": "JhKy4hnzZOed",
        "colab_type": "text"
      },
      "source": [
        "## The JavaScript console technique\n",
        "\n",
        "This idea seeded from Shivam Rawat's 2019-07-27 posting, [How to prevent Google Colab from disconnecting?](https://medium.com/@shivamrawat_756/how-to-prevent-google-colab-from-disconnecting-717b88a128c0). This code was tested on 2019-11-11 and got past 2 hours, after which the test was stopped.\n",
        "\n",
        "Features:\n",
        "- Pro\n",
        "  - Short and sweet\n",
        "- Con\n",
        "  - Requires dropping into browser's JavaScript console\n",
        "  - Dependent on DOM having a `colab-toolbar-button#connect`\n",
        "\n",
        "Folks using this neuro_colab \"platform\" will mostly be writing code in Python. So, perhaps they are not familiar with web coding and the JavaScript console. \n",
        "\n",
        "If Google changes the DOM then this may eventually not work if they sufficiently change `colab-toolbar-button#connect`.\n",
        "\n",
        "```\n",
        "// TODO: want a way to detect that have been disconnected and console.log() that event's timestamp\n",
        "\n",
        "var intervalInMilliseconds = 10000; // 1min = 60000; 5min = 300000 \n",
        "var startTime = performance.now();\n",
        "\n",
        "function ClickConnect(){\n",
        "  var aMinuteInMilliseconds = 1000 * 60;\n",
        "  var minutesConnected = (performance.now() - startTime) / aMinuteInMilliseconds;\n",
        "  console.log(\"Connected duration in minutes: \" + minutesConnected); \n",
        "  document.querySelector(\"colab-toolbar-button#connect\").click(); \n",
        "}\n",
        "\n",
        "setInterval(ClickConnect, intervalInMilliseconds);\n",
        "```  \n",
        "\n"
      ]
    },
    {
      "cell_type": "markdown",
      "metadata": {
        "id": "Ef2khwWgtMZ9",
        "colab_type": "text"
      },
      "source": [
        "## Research bibliography\n",
        "\n",
        "- [Does Google-Colab continue running the script when “Runtime disconnected”?](https://stackoverflow.com/questions/55874473/does-google-colab-continue-running-the-script-when-runtime-disconnected)\n",
        "- [Can i run a google colab (free edition) script and then shutdown my computer?](https://stackoverflow.com/questions/55050988/can-i-run-a-google-colab-free-edition-script-and-then-shutdown-my-computer)\n",
        "- [What's the hardware spec for Google Colaboratory?](https://stackoverflow.com/questions/47805170/whats-the-hardware-spec-for-google-colaboratory/47805171#47805171)"
      ]
    }
  ]
}