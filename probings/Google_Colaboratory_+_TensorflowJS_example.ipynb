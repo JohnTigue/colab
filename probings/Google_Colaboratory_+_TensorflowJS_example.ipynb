{
  "nbformat": 4,
  "nbformat_minor": 0,
  "metadata": {
    "colab": {
      "name": "Google Colaboratory + TensorflowJS example",
      "version": "0.3.2",
      "provenance": []
    },
    "kernelspec": {
      "name": "javascript",
      "display_name": "javascript"
    }
  },
  "cells": [
    {
      "cell_type": "code",
      "metadata": {
        "id": "Rkb21I2bC3Qa",
        "colab_type": "code",
        "outputId": "595e7c17-7307-4c87-f824-9314e4de4697",
        "colab": {
          "base_uri": "https://localhost:8080/",
          "height": 34
        }
      },
      "source": [
        "const tf = require(\"@tensorflow/tfjs\");"
      ],
      "execution_count": 0,
      "outputs": [
        {
          "output_type": "stream",
          "text": [
            "document is not defined\n"
          ],
          "name": "stderr"
        }
      ]
    },
    {
      "cell_type": "code",
      "metadata": {
        "id": "ckPHkQF7DOP8",
        "colab_type": "code",
        "outputId": "ebeee954-2eef-4851-e6cd-048f2bdbb4d7",
        "colab": {
          "base_uri": "https://localhost:8080/",
          "height": 68
        }
      },
      "source": [
        "var c = tf.tensor([[1.0, 2.0, 3.0], [10.0, 20.0, 30.0]]);\n",
        "c.print()"
      ],
      "execution_count": 0,
      "outputs": [
        {
          "output_type": "stream",
          "text": [
            "Tensor\n",
            "    [[1 , 2 , 3 ],\n",
            "     [10, 20, 30]]\n"
          ],
          "name": "stdout"
        }
      ]
    },
    {
      "cell_type": "code",
      "metadata": {
        "id": "Q-66iXcLDe1j",
        "colab_type": "code",
        "colab": {}
      },
      "source": [
        ""
      ],
      "execution_count": 0,
      "outputs": []
    },
    {
      "cell_type": "markdown",
      "metadata": {
        "id": "3JVzpgKoZy3h",
        "colab_type": "text"
      },
      "source": [
        ""
      ]
    }
  ]
}