{
  "nbformat": 4,
  "nbformat_minor": 0,
  "metadata": {
    "colab": {
      "name": "embesom_on_colab_probing.ipynb",
      "version": "0.3.2",
      "provenance": [],
      "collapsed_sections": []
    },
    "language_info": {
      "codemirror_mode": "r",
      "file_extension": ".r",
      "mimetype": "text/x-r-source",
      "name": "R",
      "pygments_lexer": "r",
      "version": "3.3.1"
    },
    "kernelspec": {
      "display_name": "R",
      "language": "R",
      "name": "ir"
    },
    "accelerator": "GPU"
  },
  "cells": [
    {
      "cell_type": "markdown",
      "metadata": {
        "id": "uCrwuz76Jdxy",
        "colab_type": "text"
      },
      "source": [
        "# EmbedSOM on Colab\n",
        "\n",
        "\n",
        "Started from:\n",
        "[IRKernel demo notebook](https://colab.research.google.com/github/IRkernel/IRkernel/blob/master/example-notebooks/Demo.ipynb#scrollTo=sMSFPEV6dmLA), which gets an R runtime allocated (because of the metadata in the *.ipynb JSON).\n",
        "\n",
        "Then tried to install the GPU version of EmberSOM\n",
        "\n",
        "\n",
        "https://bioinfo.uochb.cas.cz/embedsom/"
      ]
    },
    {
      "cell_type": "code",
      "metadata": {
        "id": "n0Vk7OcoNp10",
        "colab_type": "code",
        "colab": {
          "base_uri": "https://localhost:8080/",
          "height": 218
        },
        "outputId": "791fb056-c94b-4470-e40f-0a0c98f97f65"
      },
      "source": [
        "devtools::install_github('exaexa/EmbedSOM')"
      ],
      "execution_count": 2,
      "outputs": [
        {
          "output_type": "stream",
          "text": [
            "Downloading GitHub repo exaexa/EmbedSOM@master\n"
          ],
          "name": "stderr"
        },
        {
          "output_type": "stream",
          "text": [
            "\n",
            "\u001b[32m✔\u001b[39m  \u001b[90mchecking for file ‘/tmp/RtmpGsTZZ7/remotes9f20402bb8/exaexa-EmbedSOM-bc89083/DESCRIPTION’\u001b[39m\u001b[36m\u001b[39m\n",
            "\u001b[90m─\u001b[39m\u001b[90m  \u001b[39m\u001b[90mpreparing ‘EmbedSOM’:\u001b[39m\u001b[36m\u001b[39m\n",
            "\u001b[32m✔\u001b[39m  \u001b[90mchecking DESCRIPTION meta-information\u001b[39m\u001b[36m\u001b[39m\n",
            "\u001b[90m─\u001b[39m\u001b[90m  \u001b[39m\u001b[90mcleaning src\u001b[39m\u001b[36m\u001b[39m\n",
            "\u001b[90m─\u001b[39m\u001b[90m  \u001b[39m\u001b[90mchecking for LF line-endings in source and make files and shell scripts\u001b[39m\u001b[36m\u001b[39m\n",
            "\u001b[90m─\u001b[39m\u001b[90m  \u001b[39m\u001b[90mchecking for empty or unneeded directories\u001b[39m\u001b[36m\u001b[39m\n",
            "\u001b[90m─\u001b[39m\u001b[90m  \u001b[39m\u001b[90mbuilding ‘EmbedSOM_1.7.tar.gz’\u001b[39m\u001b[36m\u001b[39m\n",
            "   \n"
          ],
          "name": "stdout"
        },
        {
          "output_type": "stream",
          "text": [
            "Installing package into ‘/usr/local/lib/R/site-library’\n",
            "(as ‘lib’ is unspecified)\n"
          ],
          "name": "stderr"
        }
      ]
    },
    {
      "cell_type": "code",
      "metadata": {
        "id": "0kXwGcsuB8DG",
        "colab_type": "code",
        "colab": {
          "base_uri": "https://localhost:8080/",
          "height": 1006
        },
        "outputId": "2f8e8d1f-970d-42d4-c07c-11442d0f451a"
      },
      "source": [
        "devtools::install_github('exaexa/vkEmbedSOM')"
      ],
      "execution_count": 1,
      "outputs": [
        {
          "output_type": "stream",
          "text": [
            "Downloading GitHub repo exaexa/vkEmbedSOM@master\n"
          ],
          "name": "stderr"
        },
        {
          "output_type": "stream",
          "text": [
            "\u001b[32m✔\u001b[39m  \u001b[90mchecking for file ‘/tmp/RtmpGsTZZ7/remotes9f2b46f4a3/exaexa-vkEmbedSOM-1b31788/DESCRIPTION’\u001b[39m\u001b[36m\u001b[39m\n",
            "\u001b[90m─\u001b[39m\u001b[90m  \u001b[39m\u001b[90mpreparing ‘vkEmbedSOM’:\u001b[39m\u001b[36m\u001b[39m\n",
            "\u001b[32m✔\u001b[39m  \u001b[90mchecking DESCRIPTION meta-information\u001b[39m\u001b[36m\u001b[39m\n",
            "\u001b[90m─\u001b[39m\u001b[90m  \u001b[39m\u001b[90mcleaning src\u001b[39m\u001b[36m\u001b[39m\n",
            "\u001b[90m─\u001b[39m\u001b[90m  \u001b[39m\u001b[90mchecking for LF line-endings in source and make files and shell scripts\u001b[39m\u001b[36m\u001b[39m\n",
            "\u001b[90m─\u001b[39m\u001b[90m  \u001b[39m\u001b[90mchecking for empty or unneeded directories\u001b[39m\u001b[36m\u001b[39m\n",
            "\u001b[90m─\u001b[39m\u001b[90m  \u001b[39m\u001b[90mbuilding ‘vkEmbedSOM_1.0.tar.gz’\u001b[39m\u001b[36m\u001b[39m\n",
            "   \n"
          ],
          "name": "stdout"
        },
        {
          "output_type": "stream",
          "text": [
            "Installing package into ‘/usr/local/lib/R/site-library’\n",
            "(as ‘lib’ is unspecified)\n"
          ],
          "name": "stderr"
        },
        {
          "output_type": "error",
          "ename": "ERROR",
          "evalue": "ignored",
          "traceback": [
            "Error in i.p(...): (converted from warning) installation of package ‘/tmp/RtmpGsTZZ7/file9f2d27a39/vkEmbedSOM_1.0.tar.gz’ had non-zero exit status\nTraceback:\n",
            "1. devtools::install_github(\"exaexa/vkEmbedSOM\")",
            "2. install_remotes(remotes, auth_token = auth_token, host = host, \n .     dependencies = dependencies, upgrade = upgrade, force = force, \n .     quiet = quiet, build = build, build_opts = build_opts, repos = repos, \n .     type = type, ...)",
            "3. vapply(remotes, install_remote, ..., FUN.VALUE = character(1))",
            "4. FUN(X[[i]], ...)",
            "5. install(source, dependencies = dependencies, upgrade = upgrade, \n .     force = force, quiet = quiet, build = build, build_opts = build_opts, \n .     repos = repos, type = type, ...)",
            "6. safe_install_packages(pkgdir, repos = NULL, quiet = quiet, type = \"source\", \n .     ...)",
            "7. with_envvar(c(R_LIBS = lib, R_LIBS_USER = lib, R_LIBS_SITE = lib, \n .     RGL_USE_NULL = \"TRUE\"), if (should_error_for_warnings()) {\n .     with_options(list(warn = 2), with_rprofile_user(\"options(warn = 2)\", \n .         i.p(...)))\n . } else {\n .     i.p(...)\n . })",
            "8. force(code)",
            "9. with_options(list(warn = 2), with_rprofile_user(\"options(warn = 2)\", \n .     i.p(...)))",
            "10. force(code)",
            "11. with_rprofile_user(\"options(warn = 2)\", i.p(...))",
            "12. with_envvar(c(R_PROFILE_USER = temp_rprofile), {\n  .     force(code)\n  . })",
            "13. force(code)",
            "14. force(code)",
            "15. i.p(...)",
            "16. warning(gettextf(\"installation of package %s had non-zero exit status\", \n  .     sQuote(update[i, 1L])), domain = NA)",
            "17. .signalSimpleWarning(\"installation of package ‘/tmp/RtmpGsTZZ7/file9f2d27a39/vkEmbedSOM_1.0.tar.gz’ had non-zero exit status\", \n  .     base::quote(i.p(...)))",
            "18. withRestarts({\n  .     .Internal(.signalCondition(simpleWarning(msg, call), msg, \n  .         call))\n  .     .Internal(.dfltWarn(msg, call))\n  . }, muffleWarning = function() NULL)",
            "19. withOneRestart(expr, restarts[[1L]])",
            "20. doWithOneRestart(return(expr), restart)"
          ]
        }
      ]
    }
  ]
}