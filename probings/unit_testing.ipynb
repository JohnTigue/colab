{
  "nbformat": 4,
  "nbformat_minor": 0,
  "metadata": {
    "colab": {
      "name": "unit_testing.ipynb",
      "version": "0.3.2",
      "provenance": [],
      "collapsed_sections": []
    },
    "kernelspec": {
      "name": "python3",
      "display_name": "Python 3"
    }
  },
  "cells": [
    {
      "metadata": {
        "id": "o5KWYdl06KRe",
        "colab_type": "code",
        "colab": {}
      },
      "cell_type": "code",
      "source": [
        "# https://stackoverflow.com/a/54469692\n",
        "#   Point is that in Colab, need that `exit=False` in the call to unittest.main()\n",
        "import tensorflow as tf\n",
        "class Tests(tf.test.TestCase):\n",
        "    def test_gpu(self):\n",
        "        self.assertEqual(False, tf.test.is_gpu_available())\n",
        "import unittest\n",
        "unittest.main(argv=['first-arg-is-ignored'], exit=False)"
      ],
      "execution_count": 0,
      "outputs": []
    },
    {
      "metadata": {
        "id": "cOew-LN2-qFx",
        "colab_type": "text"
      },
      "cell_type": "markdown",
      "source": [
        "## References\n",
        "\n",
        "\n",
        "*   https://github.com/chmp/ipytest\n",
        "*   blah\n",
        "\n"
      ]
    }
  ]
}