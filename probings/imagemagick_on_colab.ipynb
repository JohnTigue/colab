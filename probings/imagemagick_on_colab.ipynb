{
  "nbformat": 4,
  "nbformat_minor": 0,
  "metadata": {
    "colab": {
      "name": "imagemagick_on_colab.ipynb",
      "provenance": [],
      "collapsed_sections": []
    },
    "kernelspec": {
      "name": "python3",
      "display_name": "Python 3"
    }
  },
  "cells": [
    {
      "cell_type": "markdown",
      "metadata": {
        "id": "_wutUJGEIBJW",
        "colab_type": "text"
      },
      "source": [
        "# ImageMagick on Colab\n",
        "\n",
        "The immortal cockroach know as ImageMagick.\n",
        "\n",
        "This started as an experiment to see if [ImageMagick](https://imagemagick.org/index.php) can be used as part of the dev environment on Colab. \n",
        "\n",
        "## History\n",
        "- 2020-05-11: Experiments with Fred's whiteboard scripts\n",
        "- 2020-04-18: base at least installs"
      ]
    },
    {
      "cell_type": "markdown",
      "metadata": {
        "id": "GslFDNt92Zjj",
        "colab_type": "text"
      },
      "source": [
        "## Install\n",
        "\n",
        "ImageMagick does not come pre-installed on Colab, but it will install:"
      ]
    },
    {
      "cell_type": "code",
      "metadata": {
        "id": "TDc2V3WKiEAm",
        "colab_type": "code",
        "outputId": "bbe9386d-d441-44c9-b354-fea2ed79a576",
        "colab": {
          "base_uri": "https://localhost:8080/",
          "height": 34
        }
      },
      "source": [
        "!convert -version"
      ],
      "execution_count": 0,
      "outputs": [
        {
          "output_type": "stream",
          "text": [
            "/bin/bash: convert: command not found\n"
          ],
          "name": "stdout"
        }
      ]
    },
    {
      "cell_type": "markdown",
      "metadata": {
        "id": "4nZPZGYu2hTa",
        "colab_type": "text"
      },
      "source": [
        "So, the above test proves not pre-installed."
      ]
    },
    {
      "cell_type": "code",
      "metadata": {
        "id": "Ge7Z7W09hzjT",
        "colab_type": "code",
        "colab": {}
      },
      "source": [
        "!apt install -qq -y imagemagick"
      ],
      "execution_count": 0,
      "outputs": []
    },
    {
      "cell_type": "code",
      "metadata": {
        "id": "QEydWho-icT2",
        "colab_type": "code",
        "outputId": "fe7f3cf7-93af-47f3-c225-c0355f9400ff",
        "colab": {
          "base_uri": "https://localhost:8080/",
          "height": 102
        }
      },
      "source": [
        "!convert -version"
      ],
      "execution_count": 0,
      "outputs": [
        {
          "output_type": "stream",
          "text": [
            "Version: ImageMagick 6.9.7-4 Q16 x86_64 20170114 http://www.imagemagick.org\n",
            "Copyright: © 1999-2017 ImageMagick Studio LLC\n",
            "License: http://www.imagemagick.org/script/license.php\n",
            "Features: Cipher DPC Modules OpenMP \n",
            "Delegates (built-in): bzlib djvu fftw fontconfig freetype jbig jng jpeg lcms lqr ltdl lzma openexr pangocairo png tiff wmf x xml zlib\n"
          ],
          "name": "stdout"
        }
      ]
    },
    {
      "cell_type": "markdown",
      "metadata": {
        "id": "heG0Wqix24AA",
        "colab_type": "text"
      },
      "source": [
        "So, indeed it can be installed and interacted with on the CLI."
      ]
    },
    {
      "cell_type": "markdown",
      "metadata": {
        "id": "d1HrPl3utCpE",
        "colab_type": "text"
      },
      "source": [
        "## Fred's whiteboard\n",
        "\n",
        "Note that file `whiteboard` which is a bash shell downloaded from [Fred](http://www.fmwconcepts.com/imagemagick/downloadcounter.php?scriptname=whiteboard&dirname=whiteboard). That is his unmodified code used here in this non-commercial notebook. It's cached to help this page init smoothly.\n"
      ]
    },
    {
      "cell_type": "markdown",
      "metadata": {
        "id": "h0Ig_AgT3FKK",
        "colab_type": "text"
      },
      "source": [
        "Years ago, Fred Weinhaus cranked out the tool which originally inspired this notebook to happen. His ImageMagick script, [Whiteboard](http://www.fmwconcepts.com/imagemagick/whiteboard/index.php), is described as \"Processes a picture of a whiteboard to clean up the background and correct the perspective.\" Old but nonetheless it was \"last modified: December 16, 2018\" so it is also long maintained.\n",
        "\n",
        "[2020-04-23: kicked Fred's whiteboard around a bit but results were unimpressive, although didn't get to quality of results shown in fmwconcepts.com. So, further exercising might get somewhere but this turned into an exercise in modern ML techniques before thoroughly exploring ImageMagick.]"
      ]
    },
    {
      "cell_type": "code",
      "metadata": {
        "id": "LBWBzOsd3BK0",
        "colab_type": "code",
        "colab": {}
      },
      "source": [
        "# Peek inside that shell script file downloaded from Fred:\n",
        "\n",
        "#freds_whiteboard_file_name = gdrive_data_root_path + 'whiteboard'\n",
        "#!head -n 4 \"{freds_whiteboard_file_name}\""
      ],
      "execution_count": 0,
      "outputs": []
    },
    {
      "cell_type": "markdown",
      "metadata": {
        "id": "bSbens2obUhI",
        "colab_type": "text"
      },
      "source": [
        "#### Install Fred's"
      ]
    },
    {
      "cell_type": "code",
      "metadata": {
        "id": "9YlNDO884GHp",
        "colab_type": "code",
        "colab": {}
      },
      "source": [
        "!apt -q install bc # Fred's whiteboard wants this"
      ],
      "execution_count": 0,
      "outputs": []
    },
    {
      "cell_type": "code",
      "metadata": {
        "id": "Wj2_yC7qbOdz",
        "colab_type": "code",
        "colab": {}
      },
      "source": [
        "# TODO: this commented out next line fails. A file is created but not usable.\n",
        "# !wget -O freds_whiteboard http://www.fmwconcepts.com/imagemagick/downloadcounter.php?scriptname=whiteboard&dirname=whiteboard\n",
        "#\n",
        "# Take #2 was to manual test: download from fmwconcepts.com, cache in private gDrive, download same to Colab FS works.\n",
        "# That worked so that's why it's cached in gDrive as freds_whiteboard_file_name.\n",
        "\n",
        "# So install is just a cp\n",
        "freds_dest = '/content/whiteboard' # whiteboard is file's orig name\n",
        "!cp \"{freds_whiteboard_file_name}\" {freds_dest}\n",
        "!chmod u+x {freds_dest} # mark it as executable\n",
        "!ls -lh /content"
      ],
      "execution_count": 0,
      "outputs": []
    },
    {
      "cell_type": "markdown",
      "metadata": {
        "id": "dpt3i7FXa9VR",
        "colab_type": "text"
      },
      "source": [
        "#### Run Fred's"
      ]
    },
    {
      "cell_type": "code",
      "metadata": {
        "id": "xWZoi-X7a0R7",
        "colab_type": "code",
        "colab": {}
      },
      "source": [
        "# !bash {freds_dest} -o 33 -e none -f 10 -S 150 -p 0.1 \"{in_file_name}\" out.jpg\n",
        "#!bash {freds_dest} -S 300 \"{in_file_name}\" out.jpg"
      ],
      "execution_count": 0,
      "outputs": []
    },
    {
      "cell_type": "code",
      "metadata": {
        "id": "OXSbWlKbFwZR",
        "colab_type": "code",
        "colab": {}
      },
      "source": [
        "#out_img = PIL.Image.open(\"out.jpg\")\n",
        "#_ = plt.figure(figsize=(5,5))\n",
        "#_ = plt.imshow(out_img)\n",
        "#display(out_img)"
      ],
      "execution_count": 0,
      "outputs": []
    },
    {
      "cell_type": "markdown",
      "metadata": {
        "id": "xDwv97Y52NPM",
        "colab_type": "text"
      },
      "source": [
        "## Python to ImageMagick\n",
        "\n",
        "[TBD]\n",
        "\n",
        "- [wand](http://docs.wand-py.org/en/0.5.9/)\n",
        "- PythonMagick\n"
      ]
    }
  ]
}