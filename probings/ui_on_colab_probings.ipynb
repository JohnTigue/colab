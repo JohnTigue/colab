{
  "nbformat": 4,
  "nbformat_minor": 0,
  "metadata": {
    "colab": {
      "name": "ui_on_colab_probings.ipynb",
      "version": "0.3.2",
      "provenance": [],
      "collapsed_sections": [],
      "toc_visible": true
    },
    "kernelspec": {
      "name": "python3",
      "display_name": "Python 3"
    }
  },
  "cells": [
    {
      "cell_type": "markdown",
      "metadata": {
        "id": "OUKrB2o1EUEe",
        "colab_type": "text"
      },
      "source": [
        "# User interface widgets on Colab\n",
        "\n",
        "This notebook is just a bunch of snippets to test drive various user interface options on Colab.\n"
      ]
    },
    {
      "cell_type": "markdown",
      "metadata": {
        "id": "67KL9scyS5h4",
        "colab_type": "text"
      },
      "source": [
        "## Images\n"
      ]
    },
    {
      "cell_type": "markdown",
      "metadata": {
        "id": "c2wy6jSi0gTx",
        "colab_type": "text"
      },
      "source": [
        "### In-line display of localhost files\n",
        "Here's a simple technique I found [via Kaggle](https://www.kdnuggets.com/2019/01/more-google-colab-environment-management-tips.html). It seems that Colab – as of 2019-03 – only supports built-in IPython widgets [[*](https://github.com/googlecolab/colabtools/issues/60#issuecomment-477675912)].\n",
        "\n",
        "\n",
        "[\"Currently 2019-03 Colab only supports the ipywidgets widgets, see #498\"](https://github.com/googlecolab/colabtools/issues/60#issuecomment-477675912)"
      ]
    },
    {
      "cell_type": "code",
      "metadata": {
        "id": "5K_UskZbqI9X",
        "colab_type": "code",
        "colab": {
          "base_uri": "https://localhost:8080/",
          "height": 69
        },
        "outputId": "c92b3f47-6d70-4c17-a31a-4dc41edb222f"
      },
      "source": [
        "# Find a image file to display, specifically one that's just pre-installed on Colab\n",
        "!ls /content/demo_files/leaflet-1.3.1/images\n"
      ],
      "execution_count": 7,
      "outputs": [
        {
          "output_type": "stream",
          "text": [
            "/content\n",
            "layers-2x.png  marker-icon-2x.png  marker-shadow.png\n",
            "layers.png     marker-icon.png\n"
          ],
          "name": "stdout"
        }
      ]
    },
    {
      "cell_type": "code",
      "metadata": {
        "id": "Q7d3CyjLpprD",
        "colab_type": "code",
        "colab": {}
      },
      "source": [
        "# Display the image\n",
        "from IPython.display import Image, display\n",
        "Image('/content/demo_files/leaflet-1.3.1/images/marker-icon-2x.png')\n"
      ],
      "execution_count": 0,
      "outputs": []
    },
    {
      "cell_type": "markdown",
      "metadata": {
        "id": "BTSJc7aYpqT5",
        "colab_type": "text"
      },
      "source": [
        "\n",
        "## Forms\n",
        "https://colab.research.google.com/notebooks/forms.ipynb\n",
        "\n",
        "\n"
      ]
    },
    {
      "cell_type": "markdown",
      "metadata": {
        "id": "o8l4gyLgUyv1",
        "colab_type": "text"
      },
      "source": [
        "## DataFrame viewers\n"
      ]
    },
    {
      "cell_type": "markdown",
      "metadata": {
        "id": "-bjwVbmlThc7",
        "colab_type": "text"
      },
      "source": [
        "### Google's"
      ]
    },
    {
      "cell_type": "code",
      "metadata": {
        "id": "iGBXHDgtERx-",
        "colab_type": "code",
        "colab": {}
      },
      "source": [
        "#https://github.com/googlecolab/colabtools/issues/498#issuecomment-493538051\n",
        "from google.colab.data_table import DataTable\n",
        "from vega_datasets import data\n",
        "DataTable(data.cars())  \n",
        "\n",
        "# Alternatively, Google's DataTable can be the default viewer\n",
        "# %load_ext google.colab.data_table\n",
        "# from vega_datasets import data\n",
        "# data.cars()"
      ],
      "execution_count": 0,
      "outputs": []
    },
    {
      "cell_type": "markdown",
      "metadata": {
        "id": "gvogv2d6TMB1",
        "colab_type": "text"
      },
      "source": [
        "## By chart type\n",
        "\n",
        "* [Charts in Colaboratory](https://colab.research.google.com/notebooks/charts.ipynb#scrollTo=lIYdn1woOS1n): seemingly a Google example\n",
        "\n"
      ]
    },
    {
      "cell_type": "markdown",
      "metadata": {
        "id": "HjuufrFeZyNf",
        "colab_type": "text"
      },
      "source": [
        "\n",
        "### Scatter plots\n",
        "\n",
        "* [Data analysis in Python: Interactive scatterplot with matplotlib](https://medium.com/@gorjanz/data-analysis-in-python-interactive-scatterplot-with-matplotlib-6bb8ad2f1f18) simply exercises matplotlib's onpick() handler"
      ]
    },
    {
      "cell_type": "markdown",
      "metadata": {
        "id": "Pb7i6S2JTTMe",
        "colab_type": "text"
      },
      "source": [
        "## By package"
      ]
    },
    {
      "cell_type": "markdown",
      "metadata": {
        "id": "Ecz6AAGD0qYf",
        "colab_type": "text"
      },
      "source": [
        "### Altair\n",
        "* [Google's example](https://colab.research.google.com/notebooks/charts.ipynb#scrollTo=beTgCbVa_wFA)\n",
        "* [Jake VanderPlas - Exploratory Data Visualization with Vega, Vega-Lite, and Altair - PyCon 2018](https://www.youtube.com/watch?v=ms29ZPUKxbU)  Altair's author, YouTube, 3h 20m\n",
        "* [A Hackernews quote](https://news.ycombinator.com/item?id=16994053): \"Additionally you would only want to use Altair on medium sized data. But Bokeh in combination with Holoviews and Datashader can render incredible amounts of data (see pyviz.org)\"\n"
      ]
    },
    {
      "cell_type": "markdown",
      "metadata": {
        "id": "KaXqJpmOGUrH",
        "colab_type": "text"
      },
      "source": [
        "### Clustergrammer2 \n",
        "\n",
        "\"Clustergrammer2 that is a webgl DataFrame viewer\"\n",
        "\n",
        "\n",
        "[Issues tracker for Colab](https://github.com/googlecolab/colabtools/issues/498#issuecomment-490183585):\n",
        "\n",
        "\"A quick example of your (very slick) notebook running in Colab, with the visualizations:\n",
        "https://colab.sandbox.google.com/gist/blois/dd01cd63d199acca951aadefb22067a8/heatmap-view-of-modern-era-player-stats.ipynb\"\n"
      ]
    },
    {
      "cell_type": "markdown",
      "metadata": {
        "id": "Z2c-Otj40w0t",
        "colab_type": "text"
      },
      "source": [
        "## References\n",
        "* [Colab Widgets](https://colab.research.google.com/notebooks/widgets.ipynb#scrollTo=Kg9nhvPp3SPe): describes their google.colab.widgets (Grid and Tabber) i.e. their 2 widgets for layout. These provided simple layout grids and then a single unit in the grid can be tab-ified."
      ]
    }
  ]
}