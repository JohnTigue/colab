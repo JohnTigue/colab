{
  "nbformat": 4,
  "nbformat_minor": 0,
  "metadata": {
    "colab": {
      "name": "scratch_snippets.ipynb",
      "version": "0.3.2",
      "provenance": [],
      "collapsed_sections": [],
      "toc_visible": true
    },
    "kernelspec": {
      "name": "python3",
      "display_name": "Python 3"
    }
  },
  "cells": [
    {
      "metadata": {
        "id": "vfAm8K-1tOcL",
        "colab_type": "text"
      },
      "cell_type": "markdown",
      "source": [
        "This notebook is simply a scratch pad full of snippets of code. It's essentially used like the [*scratch*] buffer in emacs."
      ]
    },
    {
      "metadata": {
        "id": "iRsStaKvh6XX",
        "colab_type": "text"
      },
      "cell_type": "markdown",
      "source": [
        "## Does work but on cutting floor\n"
      ]
    },
    {
      "metadata": {
        "id": "fBaDemUBs_xI",
        "colab_type": "code",
        "colab": {}
      },
      "cell_type": "code",
      "source": [
        "import sys\n",
        "\n",
        "print(\"\\n\")\n",
        "if \"allensdk\" in sys.modules:\n",
        "  print(\"AllenSDK is installed.\")\n",
        "else:\n",
        "  print(\"WARNING: AllenSDK is NOT install.\")\n",
        "\n",
        "#print(sys.modules.allensdk)"
      ],
      "execution_count": 0,
      "outputs": []
    },
    {
      "metadata": {
        "id": "8eMpCzbquuTI",
        "colab_type": "code",
        "colab": {}
      },
      "cell_type": "code",
      "source": [
        "# From allensdk_sanity_check.ipynb:\n",
        "#   https://colab.research.google.com/drive/1Px_aDlPto8h6zJDaq_YcFouLbEXkNlZL#scrollTo=qskYZLlK9QJX\n",
        "from allensdk.api.queries.rma_api import RmaApi\n",
        "\n",
        "rma = RmaApi()\n",
        "# Perform a simple test query against AIBS' public API\n",
        "fetched_data = rma.model_query('Atlas', criteria=\"[name$il'*Human*']\")\n",
        "if len(fetched_data) > 0:\n",
        "  print( \"Length of fetched_data: \", (len(fetched_data)) )\n",
        "else:\n",
        "  print( \"WARNING: Zero data records fetched. Probably a failure.\" )"
      ],
      "execution_count": 0,
      "outputs": []
    },
    {
      "metadata": {
        "id": "roVNBaw8vbNY",
        "colab_type": "code",
        "colab": {}
      },
      "cell_type": "code",
      "source": [
        "# Seemed to work\n",
        "import sys\n",
        "\n",
        "print(\"\\n\")\n",
        "if \"allensdk\" in sys.modules:\n",
        "  print(\"AllenSDK is installed.\")\n",
        "else:\n",
        "  print(\"WARNING: AllenSDK is NOT install.\")"
      ],
      "execution_count": 0,
      "outputs": []
    },
    {
      "metadata": {
        "id": "W4dw4Zm3vhX6",
        "colab_type": "code",
        "colab": {}
      },
      "cell_type": "code",
      "source": [
        "import pprint\n",
        "pretty = pprint.PrettyPrinter(indent=2)\n",
        "pretty.pprint(sys.modules)\n",
        "#print(sys.modules)\n",
        "#print(sys.modules.allensdk)\n"
      ],
      "execution_count": 0,
      "outputs": []
    },
    {
      "metadata": {
        "id": "LB4HAP9cBTpe",
        "colab_type": "code",
        "colab": {}
      },
      "cell_type": "code",
      "source": [
        "import pprint\n",
        "pretty = pprint.PrettyPrinter(indent=2)\n",
        "pretty.pprint(sys.modules)\n",
        "\n",
        "#print(sys.modules)\n"
      ],
      "execution_count": 0,
      "outputs": []
    },
    {
      "metadata": {
        "id": "1aHmglkmh_K4",
        "colab_type": "code",
        "colab": {}
      },
      "cell_type": "code",
      "source": [
        "# Detects AllenSDK but Python 2.x does not have importlib.util\n",
        "# SWDB_2018 files internally call for Python2 so Colab does that.\n",
        "# Ergo, ImportError: No module named util\n",
        "import importlib.util\n",
        "import pkg_resources\n",
        "import sys\n",
        "\n",
        "# See https://stackoverflow.com/a/41815890\n",
        "package_name = \"allensdk\"\n",
        "\n",
        "spec = importlib.util.find_spec(package_name)\n",
        "if spec is None:\n",
        "    print(package_name +\" is NOT installed\")\n",
        "else:\n",
        "    print(\"%s (version: %s) is installed.\" % (package_name, pkg_resources.get_distribution(\"allensdk\").version))"
      ],
      "execution_count": 0,
      "outputs": []
    },
    {
      "metadata": {
        "id": "C8CQDe41SlZF",
        "colab_type": "code",
        "colab": {}
      },
      "cell_type": "code",
      "source": [
        "# This works but is essentially hardwired to Python 3, yet Colab might be doing Python 2\n",
        "\n",
        "# Check dist-packages/ for allensdk*\n",
        "!echo \"If allensdk installed, then there should be two directories:\"\n",
        "!ls /usr/local/lib/python3.6/dist-packages | grep \"allensdk\"\n",
        "\n",
        "!echo \"-------------------------\"\n",
        "\n",
        "!echo \"One directory is 'allensdk' which contains:\"\n",
        "!ls /usr/local/lib/python3.6/dist-packages/allensdk\n",
        "\n",
        "!echo \"-------------------------\"\n",
        "\n",
        "!echo \"Second directory is record of install, with version number:\"\n",
        "!ls -d /usr/local/lib/python3.6/dist-packages/allensdk-*"
      ],
      "execution_count": 0,
      "outputs": []
    },
    {
      "metadata": {
        "id": "to6jNNYVxk8l",
        "colab_type": "text"
      },
      "cell_type": "markdown",
      "source": [
        "## Does not work\n"
      ]
    },
    {
      "metadata": {
        "id": "Z4sJsZ32ygkn",
        "colab_type": "text"
      },
      "cell_type": "markdown",
      "source": [
        "### Flacky mechanism\n",
        "This next bit is being a real pain in the ass. Problem is that is seems to random, often report \"WARNING: AlleSDK is NOT installed.\" When in actually it seems to be according to a followup `import foo from allensdk.*` Perhaps there is a better way to test if a package is installed. "
      ]
    },
    {
      "metadata": {
        "id": "LcULWsS3xsD0",
        "colab_type": "code",
        "colab": {}
      },
      "cell_type": "code",
      "source": [
        "import sys\n",
        "\n",
        "# print(\"\\n\")\n",
        "if \"allensdk\" in sys.modules:\n",
        "  print(\"AllenSDK is installed.\")\n",
        "else:\n",
        "  print(\"WARNING: AllenSDK is NOT install.\")"
      ],
      "execution_count": 0,
      "outputs": []
    },
    {
      "metadata": {
        "id": "IVZfY94oDTlQ",
        "colab_type": "text"
      },
      "cell_type": "markdown",
      "source": [
        "### Confused assumptions\n",
        "If `AllenSDK` is uninstalled and its classes loaded into the Python runtime on the server, then `pip uninstall` can work yet those already classes *seem* to still be live in the Python runtime.  I.e. the `pip uninstall` uninstalls files but classes already parsed into the runtime are still there, until a runtime restart.\n",
        "\n",
        "**TODO:** Confirm that after a runtime restart the package really is fully uninstalled i.e. classes can not be instantiated or detected."
      ]
    },
    {
      "metadata": {
        "id": "en_ZxT2wEd6p",
        "colab_type": "code",
        "colab": {}
      },
      "cell_type": "code",
      "source": [
        "# Perform a simple test query against AIBS' public RESTful API\n",
        "#\n",
        "# TODO: Intentionally defeated cache? or complexing issues, are we here?\n",
        "#   Maybe a network test snippet would be good. With random string in the query criteria\n",
        "\n",
        "from allensdk.api.queries.rma_api import RmaApi\n",
        "\n",
        "rma = RmaApi()\n",
        "\n",
        "fetched_data = rma.model_query('Atlas', criteria=\"[name$il'*Human*']\")\n",
        "if len(fetched_data) > 0:\n",
        "  print( \"Length of fetched_data: \", (len(fetched_data)) )\n",
        "else:\n",
        "  print( \"WARNING: Zero data records fetched. Probably a failure.\" )"
      ],
      "execution_count": 0,
      "outputs": []
    }
  ]
}