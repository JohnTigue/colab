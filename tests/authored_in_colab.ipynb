{
  "nbformat": 4,
  "nbformat_minor": 0,
  "metadata": {
    "colab": {
      "name": "authored_in_colab.ipynb",
      "version": "0.3.2",
      "provenance": []
    },
    "kernelspec": {
      "name": "python3",
      "display_name": "Python 3"
    }
  },
  "cells": [
    {
      "metadata": {
        "id": "00ZBgxzfCX4h",
        "colab_type": "text"
      },
      "cell_type": "markdown",
      "source": [
        "This notebook was used to test Colab's behavior WRT files authored within Colab versus, say, pulling from a GitHub hosted repo. Why? In order to figure out how to get along with Colab's playground mode."
      ]
    },
    {
      "metadata": {
        "id": "85Wg4vqkintu",
        "colab_type": "code",
        "colab": {}
      },
      "cell_type": "code",
      "source": [
        "!pip install allensdk"
      ],
      "execution_count": 0,
      "outputs": []
    },
    {
      "metadata": {
        "id": "5SN-RYvFkCOS",
        "colab_type": "code",
        "colab": {}
      },
      "cell_type": "code",
      "source": [
        "from allensdk.api.queries.rma_api import RmaApi\n",
        "import pprint\n",
        "\n",
        "rma = RmaApi()\n",
        "data = rma.model_query('Atlas', criteria=\"[name$il'*Mouse*']\")\n",
        "\n",
        "pp = pprint.PrettyPrinter(indent=2)\n",
        "pp.pprint(data)"
      ],
      "execution_count": 0,
      "outputs": []
    },
    {
      "metadata": {
        "id": "ZZxeNlPUAozu",
        "colab_type": "text"
      },
      "cell_type": "markdown",
      "source": [
        "This file was created (\"File => New Python 3 notebook\") and named in Colab. \n",
        "\n",
        "It was NOT:\n",
        "\n",
        "1.   Written on my laptop\n",
        "2.   Put into a git repo\n",
        "3.   Pushed to github.com\n",
        "4.   Pulled into Colab\n",
        "\n",
        "The latter production method seems to cause a kernel reboot (trust issues b/c not authored in Colab)\n",
        "\n",
        "(Of course, this file was eventually put into a repo on GitHub, so it COULD now be pulled from there. \n"
      ]
    }
  ]
}