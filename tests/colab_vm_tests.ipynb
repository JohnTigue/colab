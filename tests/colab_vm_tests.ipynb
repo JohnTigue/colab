{
  "nbformat": 4,
  "nbformat_minor": 0,
  "metadata": {
    "colab": {
      "name": "colab_vm_tests.ipynb",
      "version": "0.3.2",
      "provenance": [],
      "collapsed_sections": []
    },
    "kernelspec": {
      "name": "python3",
      "display_name": "Python 3"
    }
  },
  "cells": [
    {
      "metadata": {
        "id": "ciIGte07g6Z9",
        "colab_type": "text"
      },
      "cell_type": "markdown",
      "source": [
        "This notebook explores the Colab service in various ways in order to get a handle on exactly what is going on with the VM, runtimes, filesystem, Python 2 vs 3 in Colab, etc."
      ]
    },
    {
      "metadata": {
        "id": "DQZZeeelhNf2",
        "colab_type": "text"
      },
      "cell_type": "markdown",
      "source": [
        "# Python 2 versus Python 3\n",
        "\n",
        "In the Colab user menus are items for both `New Python 2 notebook` and `New Python 3 notebook`. Turns out there is a `metadata` object in the JSON that is an `.ipynb` file, which usually looks something like the following:\n",
        "\n",
        "```\n",
        "\"metadata\": {\n",
        "  \"kernelspec\": {\n",
        "     \"display_name\": \"Python 2\",\n",
        "     \"language\": \"python\",\n",
        "     \"name\": \"python2\"\n",
        "    },\n",
        "  \"language_info\": {\n",
        "     \"codemirror_mode\": {\n",
        "        \"name\": \"ipython\",\n",
        "        \"version\": 2\n",
        "       },\n",
        "    }\n",
        "  }\n",
        "```\n",
        "\n",
        "So, upon `New Python 2 notebook` and `New Python 3 notebook` Colab will set the `metadata` appropriately. Similarly, when Colab opens a `.ipynb` file from, say, GitHub the `metadata` info is used to determine which sort of Python environment to spin up: 2 or 3. "
      ]
    },
    {
      "metadata": {
        "id": "WPKaevG3g0aQ",
        "colab_type": "code",
        "colab": {
          "base_uri": "https://localhost:8080/",
          "height": 35
        },
        "outputId": "50c0fd87-9161-4cf5-a159-df0de4cb19b4"
      },
      "cell_type": "code",
      "source": [
        "# For Python 3 notebooks, Colab seems to be using Python 3.6\n",
        "import platform\n",
        "\n",
        "a_message = \"Python runtime version: \" + platform.python_version() \n",
        "print(a_message)\n",
        "\n",
        "!ls /usr/local/lib/python3.6/dist-packages | grep \"allensdk\""
      ],
      "execution_count": 2,
      "outputs": [
        {
          "output_type": "stream",
          "text": [
            "Python runtime version: 3.6.7\n"
          ],
          "name": "stdout"
        }
      ]
    },
    {
      "metadata": {
        "id": "eJzswQUEjLlg",
        "colab_type": "code",
        "colab": {
          "base_uri": "https://localhost:8080/",
          "height": 69
        },
        "outputId": "8a0f0853-3c48-416a-e75b-d95350da1b3e"
      },
      "cell_type": "code",
      "source": [
        "# For Python 2 notebooks, Colab seems to be using Python 2.7\n",
        "import platform\n",
        "\n",
        "a_message = \"Python runtime version: \" + platform.python_version() \n",
        "print(a_message)\n",
        "\n",
        "!ls /usr/local/lib/python2.7/dist-packages |grep \"allensdk\""
      ],
      "execution_count": 3,
      "outputs": [
        {
          "output_type": "stream",
          "text": [
            "Python runtime version: 3.6.7\n",
            "allensdk\n",
            "allensdk-0.16.2.dist-info\n"
          ],
          "name": "stdout"
        }
      ]
    },
    {
      "metadata": {
        "id": "KsdMxsEfj29G",
        "colab_type": "text"
      },
      "cell_type": "markdown",
      "source": [
        "## Pip installs\n",
        "\n",
        "As is normal with Python's `pip`, `install` results show up in different directories depending on if the runtime is Python 2 versus Python 3. But on Colab, a user only gets one VM, with a single filesystem. So, one could open a Python 2 notebook, install a package (testing with `pip install allensdk` in this notebooke), then open a Python 3 notebook. The Python 3 notebook will not believe that `allensdk` is installed (because it's not, for Python 3) yet the `allensdk` file can be seen to be in `/usr/local/lib/python2.7/dist-packages` i.e. `allensdk` is installed but only for Python 2 notebooks.\n"
      ]
    }
  ]
}