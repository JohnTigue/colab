{
  "nbformat": 4,
  "nbformat_minor": 0,
  "metadata": {
    "colab": {
      "name": "colab_config_info.ipynb",
      "version": "0.3.2",
      "provenance": [],
      "collapsed_sections": []
    },
    "kernelspec": {
      "name": "python3",
      "display_name": "Python 3"
    }
  },
  "cells": [
    {
      "metadata": {
        "id": "CeC-AbggYh6s",
        "colab_type": "text"
      },
      "cell_type": "markdown",
      "source": [
        "# Colab configuration information\n",
        "This notebook is intended to simple dump status information on a Colab VM. There is nothing project specific about this notebook; it's all about the Colab runtime and VM."
      ]
    },
    {
      "metadata": {
        "id": "G7t323CWYWDB",
        "colab_type": "code",
        "outputId": "cf26e6da-ab69-4969-b792-8773b2b845b2",
        "colab": {
          "base_uri": "https://localhost:8080/",
          "height": 759
        }
      },
      "cell_type": "code",
      "source": [
        "!pip install allensdk\n",
        "\n",
        "import sys\n",
        "\n",
        "print()\n",
        "if 'allensdk' in sys.modules:\n",
        "  print(\"AllenSDK is installed.\")\n",
        "else:\n",
        "  print(\"WARNING: AllenSDK is NOT install.\")"
      ],
      "execution_count": 0,
      "outputs": [
        {
          "output_type": "stream",
          "text": [
            "Requirement already satisfied: allensdk in /usr/local/lib/python3.6/dist-packages (0.16.1)\n",
            "Requirement already satisfied: requests in /usr/local/lib/python3.6/dist-packages (from allensdk) (2.21.0)\n",
            "Requirement already satisfied: future>=0.14.3 in /usr/local/lib/python3.6/dist-packages (from allensdk) (0.16.0)\n",
            "Requirement already satisfied: scipy>=0.15.1 in /usr/local/lib/python3.6/dist-packages (from allensdk) (1.2.1)\n",
            "Requirement already satisfied: scikit-image>=0.14.0 in /usr/local/lib/python3.6/dist-packages (from allensdk) (0.14.2)\n",
            "Requirement already satisfied: jinja2>=2.7.3 in /usr/local/lib/python3.6/dist-packages (from allensdk) (2.10.1)\n",
            "Requirement already satisfied: h5py>=2.8 in /usr/local/lib/python3.6/dist-packages (from allensdk) (2.8.0)\n",
            "Requirement already satisfied: simpleitk in /usr/local/lib/python3.6/dist-packages (from allensdk) (1.2.0)\n",
            "Requirement already satisfied: requests-toolbelt in /usr/local/lib/python3.6/dist-packages (from allensdk) (0.9.1)\n",
            "Requirement already satisfied: simplejson>=3.10.0 in /usr/local/lib/python3.6/dist-packages (from allensdk) (3.16.0)\n",
            "Requirement already satisfied: six>=1.9.0 in /usr/local/lib/python3.6/dist-packages (from allensdk) (1.12.0)\n",
            "Requirement already satisfied: matplotlib>=1.4.3 in /usr/local/lib/python3.6/dist-packages (from allensdk) (3.0.3)\n",
            "Requirement already satisfied: pynrrd>=0.2.1 in /usr/local/lib/python3.6/dist-packages (from allensdk) (0.4.0)\n",
            "Requirement already satisfied: numpy==1.15.4 in /usr/local/lib/python3.6/dist-packages (from allensdk) (1.15.4)\n",
            "Requirement already satisfied: scikit-build in /usr/local/lib/python3.6/dist-packages (from allensdk) (0.9.0)\n",
            "Requirement already satisfied: pandas>=0.23.0 in /usr/local/lib/python3.6/dist-packages (from allensdk) (0.24.2)\n",
            "Requirement already satisfied: tables==3.4.4 in /usr/local/lib/python3.6/dist-packages (from allensdk) (3.4.4)\n",
            "Requirement already satisfied: statsmodels>=0.8.0 in /usr/local/lib/python3.6/dist-packages (from allensdk) (0.9.0)\n",
            "Requirement already satisfied: idna<2.9,>=2.5 in /usr/local/lib/python3.6/dist-packages (from requests->allensdk) (2.8)\n",
            "Requirement already satisfied: certifi>=2017.4.17 in /usr/local/lib/python3.6/dist-packages (from requests->allensdk) (2019.3.9)\n",
            "Requirement already satisfied: urllib3<1.25,>=1.21.1 in /usr/local/lib/python3.6/dist-packages (from requests->allensdk) (1.24.2)\n",
            "Requirement already satisfied: chardet<3.1.0,>=3.0.2 in /usr/local/lib/python3.6/dist-packages (from requests->allensdk) (3.0.4)\n",
            "Requirement already satisfied: PyWavelets>=0.4.0 in /usr/local/lib/python3.6/dist-packages (from scikit-image>=0.14.0->allensdk) (1.0.3)\n",
            "Requirement already satisfied: pillow>=4.3.0 in /usr/local/lib/python3.6/dist-packages (from scikit-image>=0.14.0->allensdk) (4.3.0)\n",
            "Requirement already satisfied: cloudpickle>=0.2.1 in /usr/local/lib/python3.6/dist-packages (from scikit-image>=0.14.0->allensdk) (0.6.1)\n",
            "Requirement already satisfied: dask[array]>=1.0.0 in /usr/local/lib/python3.6/dist-packages (from scikit-image>=0.14.0->allensdk) (1.1.5)\n",
            "Requirement already satisfied: networkx>=1.8 in /usr/local/lib/python3.6/dist-packages (from scikit-image>=0.14.0->allensdk) (2.3)\n",
            "Requirement already satisfied: MarkupSafe>=0.23 in /usr/local/lib/python3.6/dist-packages (from jinja2>=2.7.3->allensdk) (1.1.1)\n",
            "Requirement already satisfied: kiwisolver>=1.0.1 in /usr/local/lib/python3.6/dist-packages (from matplotlib>=1.4.3->allensdk) (1.0.1)\n",
            "Requirement already satisfied: cycler>=0.10 in /usr/local/lib/python3.6/dist-packages (from matplotlib>=1.4.3->allensdk) (0.10.0)\n",
            "Requirement already satisfied: python-dateutil>=2.1 in /usr/local/lib/python3.6/dist-packages (from matplotlib>=1.4.3->allensdk) (2.5.3)\n",
            "Requirement already satisfied: pyparsing!=2.0.4,!=2.1.2,!=2.1.6,>=2.0.1 in /usr/local/lib/python3.6/dist-packages (from matplotlib>=1.4.3->allensdk) (2.4.0)\n",
            "Requirement already satisfied: packaging in /usr/local/lib/python3.6/dist-packages (from scikit-build->allensdk) (19.0)\n",
            "Requirement already satisfied: wheel>=0.29.0 in /usr/local/lib/python3.6/dist-packages (from scikit-build->allensdk) (0.33.1)\n",
            "Requirement already satisfied: setuptools>=28.0.0 in /usr/local/lib/python3.6/dist-packages (from scikit-build->allensdk) (40.9.0)\n",
            "Requirement already satisfied: pytz>=2011k in /usr/local/lib/python3.6/dist-packages (from pandas>=0.23.0->allensdk) (2018.9)\n",
            "Requirement already satisfied: numexpr>=2.5.2 in /usr/local/lib/python3.6/dist-packages (from tables==3.4.4->allensdk) (2.6.9)\n",
            "Requirement already satisfied: patsy in /usr/local/lib/python3.6/dist-packages (from statsmodels>=0.8.0->allensdk) (0.5.1)\n",
            "Requirement already satisfied: olefile in /usr/local/lib/python3.6/dist-packages (from pillow>=4.3.0->scikit-image>=0.14.0->allensdk) (0.46)\n",
            "Requirement already satisfied: toolz>=0.7.3; extra == \"array\" in /usr/local/lib/python3.6/dist-packages (from dask[array]>=1.0.0->scikit-image>=0.14.0->allensdk) (0.9.0)\n",
            "Requirement already satisfied: decorator>=4.3.0 in /usr/local/lib/python3.6/dist-packages (from networkx>=1.8->scikit-image>=0.14.0->allensdk) (4.4.0)\n",
            "\n",
            "WARNING: AllenSDK is NOT install.\n"
          ],
          "name": "stdout"
        }
      ]
    },
    {
      "metadata": {
        "id": "nqqpF4C3YWCj",
        "colab_type": "code",
        "colab": {}
      },
      "cell_type": "code",
      "source": [
        "print(sys.modules.allensdk)"
      ],
      "execution_count": 0,
      "outputs": []
    },
    {
      "metadata": {
        "id": "2WaoKPfqYWB_",
        "colab_type": "code",
        "colab": {}
      },
      "cell_type": "code",
      "source": [
        "      import pprint\n",
        "      pretty = pprint.PrettyPrinter(indent=2)\n",
        "      pretty.pprint(sys.modules)\n",
        "      #print(sys.modules)\n"
      ],
      "execution_count": 0,
      "outputs": []
    },
    {
      "metadata": {
        "id": "m3SbviHli8Er",
        "colab_type": "code",
        "colab": {}
      },
      "cell_type": "code",
      "source": [
        "# Various installs used in this notebook\n",
        "!pip install humanize\n",
        "!pip install gputil\n",
        "!pip install psutil"
      ],
      "execution_count": 0,
      "outputs": []
    },
    {
      "metadata": {
        "id": "uxbfElYWtEGX",
        "colab_type": "text"
      },
      "cell_type": "markdown",
      "source": [
        "## VM uptime"
      ]
    },
    {
      "metadata": {
        "id": "hw4ETaUArMJK",
        "colab_type": "code",
        "colab": {}
      },
      "cell_type": "code",
      "source": [
        "# How long has this VM been up? \n",
        "# TODO: Colab automatically kills the VM at 12 hours?\n",
        "!uptime"
      ],
      "execution_count": 0,
      "outputs": []
    },
    {
      "metadata": {
        "id": "oApnhySRN_jx",
        "colab_type": "code",
        "colab": {}
      },
      "cell_type": "code",
      "source": [
        ""
      ],
      "execution_count": 0,
      "outputs": []
    },
    {
      "metadata": {
        "id": "DvI-zBE8dwud",
        "colab_type": "code",
        "colab": {}
      },
      "cell_type": "code",
      "source": [
        "# Reset VM\n",
        "!kill -9 -1"
      ],
      "execution_count": 0,
      "outputs": []
    },
    {
      "metadata": {
        "id": "_rim_Xy3h--W",
        "colab_type": "text"
      },
      "cell_type": "markdown",
      "source": [
        "## CPU information"
      ]
    },
    {
      "metadata": {
        "id": "Cd9OM-gSYdaE",
        "colab_type": "code",
        "colab": {}
      },
      "cell_type": "code",
      "source": [
        "# How many CPUs does this machine have?\n",
        "!lscpu | grep \"^CPU(s):\""
      ],
      "execution_count": 0,
      "outputs": []
    },
    {
      "metadata": {
        "id": "z7eY-Lq9dFBy",
        "colab_type": "code",
        "colab": {}
      },
      "cell_type": "code",
      "source": [
        "# More details on the CPU(s):\n",
        "!cat /proc/cpuinfo"
      ],
      "execution_count": 0,
      "outputs": []
    },
    {
      "metadata": {
        "id": "uhb8bXJIZU9t",
        "colab_type": "code",
        "colab": {}
      },
      "cell_type": "code",
      "source": [
        "# RAM\n",
        "!cat /proc/meminfo | head -n3"
      ],
      "execution_count": 0,
      "outputs": []
    },
    {
      "metadata": {
        "id": "LeSy0EpOigS_",
        "colab_type": "code",
        "colab": {}
      },
      "cell_type": "code",
      "source": [
        "# RAM info humanized\n",
        "import psutil\n",
        "import humanize\n",
        "import os\n",
        "\n",
        "process = psutil.Process(os.getpid())\n",
        "print(\"RAM Free: \" + humanize.naturalsize( psutil.virtual_memory().available ), \" | Proc size: \" + humanize.naturalsize( process.memory_info().rss))\n"
      ],
      "execution_count": 0,
      "outputs": []
    },
    {
      "metadata": {
        "id": "HeD7R1g_iFLO",
        "colab_type": "text"
      },
      "cell_type": "markdown",
      "source": [
        "## GPU information"
      ]
    },
    {
      "metadata": {
        "id": "V-Oo_YsDbYUi",
        "colab_type": "code",
        "colab": {}
      },
      "cell_type": "code",
      "source": [
        "# What GPUs are available for use?\n"
      ],
      "execution_count": 0,
      "outputs": []
    },
    {
      "metadata": {
        "id": "a-tpXTLhbsg7",
        "colab_type": "code",
        "outputId": "753b9924-af79-4e35-f8c5-3150ed87241a",
        "colab": {
          "base_uri": "https://localhost:8080/",
          "height": 34
        }
      },
      "cell_type": "code",
      "source": [
        "# What GPU is currently config'd for use?\n",
        "\n",
        "# https://colab.research.google.com/notebooks/gpu.ipynb\n",
        "import tensorflow as tf\n",
        "device_name = tf.test.gpu_device_name()\n",
        "if device_name != '/device:GPU:0':\n",
        "  print(\"TensorFlow found NO GPU\")\n",
        "else:\n",
        "  print('TensorFlow found GPU at: {}'.format(device_name))\n",
        "\n",
        "# TODO: Another way?\n",
        "#from tensorflow.python.client import device_lib\n",
        "#device_lib.list_local_devices()"
      ],
      "execution_count": 0,
      "outputs": [
        {
          "output_type": "stream",
          "text": [
            "TensorFlow found NO GPU\n"
          ],
          "name": "stdout"
        }
      ]
    },
    {
      "metadata": {
        "id": "SnpoONR1hBEC",
        "colab_type": "code",
        "colab": {}
      },
      "cell_type": "code",
      "source": [
        "# Memory in GPU\n",
        "!ln -sf /opt/bin/nvidia-smi /usr/bin/nvidia-smi\n",
        "\n",
        "import GPUtil as GPU\n",
        "\n",
        "gpus = GPU.getGPUs()\n",
        "\n",
        "if len(gpus) > 0:\n",
        "  gpu = gpus[0]\n",
        "  print(\"GPU RAM Free: {0:.0f}MB | Used: {1:.0f}MB | Util {2:3.0f}% | Total {3:.0f}MB\".format(gpu.memoryFree, gpu.memoryUsed, gpu.memoryUtil*100, gpu.memoryTotal))\n",
        "else:\n",
        "  print(\"No GPU config'd for use.\")"
      ],
      "execution_count": 0,
      "outputs": []
    },
    {
      "metadata": {
        "id": "Yc4jEhFyZDRi",
        "colab_type": "code",
        "colab": {}
      },
      "cell_type": "code",
      "source": [
        "# Disk space\n",
        "!df -h"
      ],
      "execution_count": 0,
      "outputs": []
    },
    {
      "metadata": {
        "id": "m5t8eFMPaJdc",
        "colab_type": "text"
      },
      "cell_type": "markdown",
      "source": [
        "## References\n",
        "\n",
        "* [Google Colab Free GPU Tutorial](https://medium.com/deep-learning-turkey/google-colab-free-gpu-tutorial-e113627b9f5d)\n",
        "* [GPU stats code](https://stackoverflow.com/questions/48750199/google-colaboratory-misleading-information-about-its-gpu-only-5-ram-available)\n",
        "* [TensorFlow with GPU](https://colab.research.google.com/notebooks/gpu.ipynb#scrollTo=3IEVK-KFxi5Z)"
      ]
    }
  ]
}