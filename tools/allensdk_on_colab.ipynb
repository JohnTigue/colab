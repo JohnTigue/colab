{
  "nbformat": 4,
  "nbformat_minor": 0,
  "metadata": {
    "colab": {
      "name": "allensdk_on_colab.ipynb",
      "version": "0.3.2",
      "provenance": [],
      "collapsed_sections": []
    },
    "kernelspec": {
      "name": "python3",
      "display_name": "Python 3"
    }
  },
  "cells": [
    {
      "metadata": {
        "id": "1s3hXGvTET_6",
        "colab_type": "text"
      },
      "cell_type": "markdown",
      "source": [
        "# AllenSDK on Colab\n",
        "\n",
        "[![Open In Colab](https://colab.research.google.com/assets/colab-badge.svg)](https://colab.research.google.com/github/JohnTigue/colab-ing/blob/master/tools/allensdk_on_colab.ipynb)\n",
        "\n",
        "The [Allen Institute for Brain Science](https://www.alleninstitute.org/) (AIBS) maintains an SDK, called [`the Allen SDK`](https://github.com/AllenInstitute/AllenSDK), for working with their resources ([data](http://portal.brain-map.org/) and software). This notebook, `allensdk_on_colab.ipynb`, is focused on nothing except the installation of the Allen SDK on [Colab](https://colab.research.google.com).\n",
        "\n",
        "The following snippets were tested on Colab in new notebooks, for both options available on Colab: Python 2 and Python 3.\n",
        "\n",
        "Herein, `AllenSDK` and `allensdk` refer to the Python package that gets `import`ed. Separately, \"the Allen SDK\" is `AllenSDK` plus further documentation, example code, etc. \n",
        "\n",
        "## Motivation\n",
        "This notebook was built out while working through – on Colab – AIBS' pedagogical Jupyter notebooks in both the Allen SDK and their [Allen Summer Workshop on the Dynamic Brain repository on GitHub](https://github.com/AllenInstitute/SWDB_2018).\n",
        "\n",
        "The Allen SDK documentation includes example Jupyter notebooks for [how to use `AllenSDK`](https://alleninstitute.github.io/AllenSDK/examples.html).\n",
        "\n",
        "Separately, AIBS holds an annual two week retreat, the Summer Workshop on the Dynamic Brain (SWDB), where they train up promising new neuroscientist on how to do science with AIBS' data and tools. The main pedagogical medium of SWDB is Jupyter notebooks, which can be found on GitHub in [AllenInstitute/SWDB_2018](https://github.com/AllenInstitute/SWDB_2018).\n",
        "\n",
        "The SWDB notebooks assume that [`AllenSDK` is preinstalled](http://alleninstitute.github.io/AllenSDK/install.html#installation-with-docker-optional). That is, in order to get an arbitrary, as-found-on-GitHub SWDB notebook to work in Colab, a `!pip install allensdk` is required first – in every notebook file. (Unlike [Binder](https://mybinder.org/), Colab does not model a whole git repo of notebooks, only individual notebook files separately.)\n",
        "\n",
        "**TODO:** what the deal about installing in one `.ipynb` and seeing that in another `.ipynb`.\n",
        "\n",
        "This file makes it trivial to repeat (and debug) `AllenSDK` installs as needed – which can be rather frequent on Colab. The `pip install` is just one line; the real value here is more the collection of debug tools that come in handy if set-up is not going well.\n",
        "\n",
        "## Install This File as Colab Custom Snippets\n",
        "This notebook reads well enough as one sequential story but the text is really designed to read well as individual snippets, in Colab's code snippet insert dialog.\n",
        "\n",
        "To \"install\" these snippets in your Colab snippets library:\n",
        "* Load this file in Colab\n",
        "* Copy the URL (~`https://colab.research.google.com\\...`)\n",
        "* In any Colab page, from the menus select `Tools=>Preferences...` \n",
        "* In `Custom snippet notebook URL`, paste the URL\n",
        "* Press `Save`\n",
        "* Reload\n",
        "\n",
        "Note: Colab does allow for multiple simultaneous `Custom snippet notebook URLs`... sometimes and sometimes not.\n",
        "\n",
        "After the above set-up, it's trivial to insert cells that install and test `AllenSDK`.  For example, load in Colab a SWDB notebook, say [`BrainObservatory.ipynb`](https://github.com/AllenInstitute/SWDB_2018/blob/master/DynamicBrain/BrainObservatory.ipynb), then simply select `Insert => Code snippet...` and search for `allensdk` and the following come up:\n",
        "![allensdk_snippets_in_menu](https://raw.githubusercontent.com/JohnTigue/colab-ing/master/images/allensdk_snippets_in_colab.png =330x280)\n",
        "\n",
        "Select `Install AllenSDK` and run the resulting code cell, after which the Allen SWDB notebooks should work on Colab. Your modification will not persist in the GitHub hosted repo (i.e. the notebook is in playground mode). Ergo, these snippets provide a relatively easy way to play with the SWDB notebooks on Colab, short of forking the original repo... which is what Colab is really useful for."
      ]
    },
    {
      "metadata": {
        "id": "54XxDX_28Nd-",
        "colab_type": "text"
      },
      "cell_type": "markdown",
      "source": [
        "# Install AllenSDK\n",
        "\n",
        "So this is text above the code cell. DOes it show?"
      ]
    },
    {
      "metadata": {
        "id": "_Dl8Nf6h5m3k",
        "colab_type": "code",
        "colab": {}
      },
      "cell_type": "code",
      "source": [
        "# One liner install of AllenSDK\n",
        "!pip install allensdk"
      ],
      "execution_count": 0,
      "outputs": []
    },
    {
      "metadata": {
        "id": "thlsIAosHZSF",
        "colab_type": "text"
      },
      "cell_type": "markdown",
      "source": [
        "**TODO:** consider only `!pip` if detect `AllenSDK` not installed."
      ]
    },
    {
      "metadata": {
        "id": "lRxbaK9FyAyZ",
        "colab_type": "text"
      },
      "cell_type": "markdown",
      "source": [
        "# Uninstall AllenSDK\n"
      ]
    },
    {
      "metadata": {
        "id": "5F2xvFuJWuk1",
        "colab_type": "code",
        "colab": {}
      },
      "cell_type": "code",
      "source": [
        "# One liner uninstall of AllenSDK, --yes only works with pip >= 7.1.2\n",
        "!pip uninstall --yes allensdk"
      ],
      "execution_count": 0,
      "outputs": []
    },
    {
      "metadata": {
        "id": "e2j3qcK9EGbM",
        "colab_type": "text"
      },
      "cell_type": "markdown",
      "source": [
        "Note that if AllenSDK is not installed then `pip uninstall -yes allensdk` will return: \"Skipping allensdk as it is not installed.\""
      ]
    },
    {
      "metadata": {
        "id": "tjxeCcd3H0xx",
        "colab_type": "text"
      },
      "cell_type": "markdown",
      "source": [
        "The `--yes` option works with [pip version 7.1.2](https://stackoverflow.com/a/33557016) and above, and is used here to avoid things hanging at a confirmation dialog (A \"Do ya really wanna uninstall all these dependencies?\" sort of thing.)"
      ]
    },
    {
      "metadata": {
        "id": "tyewTmdDEh1p",
        "colab_type": "text"
      },
      "cell_type": "markdown",
      "source": [
        "Note that the following sort of sequence can be confusing:\n",
        "1. Install`AllenSDK` (`pip install allensdk`)\n",
        "2. Instantiate some class, say, `allensdk.api.queries.rma_api`\n",
        "3. Uninstall `AllenSDK` (`pip uninstall allensdk`)\n",
        "4. Instantiate again `allensdk.api.queries.rma_api`\n",
        "\n",
        "It may come as a surprise that step #4 does not throw a `ModuleNotFoundError`. Point is `AllenSDK` was uninstalled but the Python runtime still had classes already parsed into the runtime. Those classes will persist until a runtime restart. So, if you really want to uninstall `AllenSDK` you might want to consider a runtime restart to really flush out the system. But that's true of Python in general; it is not an `AllenSDK` thing. \n",
        "\n",
        "**TODO:** confirm these assumptions.\n",
        "\n",
        "**TODO:** Maybe [importlib](https://docs.python.org/3.4/library/importlib.html) can improve this via, say, `invalidate_cache()`."
      ]
    },
    {
      "metadata": {
        "id": "JQ-is79HhEMJ",
        "colab_type": "text"
      },
      "cell_type": "markdown",
      "source": [
        "# Check If AllenSDK Is Installed (Python2)"
      ]
    },
    {
      "metadata": {
        "id": "9IEOKSKcjUIH",
        "colab_type": "code",
        "outputId": "f53975e2-9de1-46f9-ed02-b40ec15d3da1",
        "colab": {
          "base_uri": "https://localhost:8080/",
          "height": 35
        }
      },
      "cell_type": "code",
      "source": [
        "# Python2: Check If AllenSDK Is Installed\n",
        "# via https://stackoverflow.com/a/14050282\n",
        "import imp\n",
        "import pkg_resources\n",
        "\n",
        "try:\n",
        "    imp.find_module('allensdk')\n",
        "    found = True\n",
        "except ImportError:\n",
        "    found = False\n",
        "    \n",
        "if found is True:\n",
        "    import allensdk\n",
        "    vers = allensdk.__version__\n",
        "    message = \"AllenSDK is installed. Version: \" + vers\n",
        "    print(message)\n",
        "else:\n",
        "    print(\"AllenSDK is NOT installed\")"
      ],
      "execution_count": 0,
      "outputs": [
        {
          "output_type": "stream",
          "text": [
            "AllenSDK is installed. Version: 0.16.2\n"
          ],
          "name": "stdout"
        }
      ]
    },
    {
      "metadata": {
        "id": "fqDxx43KwFvX",
        "colab_type": "text"
      },
      "cell_type": "markdown",
      "source": [
        "# Check If AllenSDK Is Installed (Python3)"
      ]
    },
    {
      "metadata": {
        "id": "YTWGIz4VrEFW",
        "colab_type": "code",
        "outputId": "aa699467-0fb7-4852-d196-d63d635b35fb",
        "colab": {
          "base_uri": "https://localhost:8080/",
          "height": 35
        }
      },
      "cell_type": "code",
      "source": [
        "# Python3: Check If AllenSDK Is Installed\n",
        "import importlib.util\n",
        "import pkg_resources\n",
        "import sys\n",
        "\n",
        "# See https://stackoverflow.com/a/41815890\n",
        "package_name = \"allensdk\"\n",
        "spec = importlib.util.find_spec(package_name)\n",
        "if spec is None:\n",
        "    print(package_name +\" is NOT installed\")\n",
        "else:\n",
        "    print(\"%s (version: %s) is installed.\" % (package_name, pkg_resources.get_distribution(\"allensdk\").version))"
      ],
      "execution_count": 1,
      "outputs": [
        {
          "output_type": "stream",
          "text": [
            "allensdk is NOT installed\n"
          ],
          "name": "stdout"
        }
      ]
    },
    {
      "metadata": {
        "id": "MHheITQ_HvZ2",
        "colab_type": "text"
      },
      "cell_type": "markdown",
      "source": [
        "Note that this can return a false result if `AllenSDK` classes were instantiated followed by a `pip uninstall allensdk`. This test will still report that `allensdk is installed.` until the runtime is restarted.\n",
        "\n",
        "Note, if this Python3 code is run inside Python2, then the result will be `ImportError: No module named util`."
      ]
    },
    {
      "metadata": {
        "id": "FKiFzCrYXKrV",
        "colab_type": "text"
      },
      "cell_type": "markdown",
      "source": [
        "# Probe File System for AllenSDK Files\n",
        "From the output of the above `pip install` is seems packages are getting installed in `/usr/local/lib/python3.6/dist-packages` so might be interesting to see what `allensdk` related stuff shows up after a `pip install allensdk`. Two items usually show up, `allensdk` and an `allensdk-0.xy.z.dist-info` where x,y,z are digit charters corresponding to the version number installed. "
      ]
    },
    {
      "metadata": {
        "id": "d70hYQgfCGuS",
        "colab_type": "code",
        "colab": {}
      },
      "cell_type": "code",
      "source": [
        "# Probe File System for AllenSDK Files\n",
        "import os\n",
        "import platform\n",
        "import site\n",
        "\n",
        "allensdk_was_found = False\n",
        "\n",
        "sites = site.getsitepackages()\n",
        "for a_site_dir_name in sites:\n",
        "  if os.path.isdir(a_site_dir_name):\n",
        "    maybe_allensdk_install_dir = os.path.join(a_site_dir_name, \"allensdk\")\n",
        "    if os.path.isdir(maybe_allensdk_install_dir):\n",
        "      allensdk_was_found = True\n",
        "\n",
        "      a_message = \"AllenSDK looks to be installed in:\\n  \" + maybe_allensdk_install_dir + \"\\n\"\n",
        "      print(a_message)\n",
        "      \n",
        "      import allensdk\n",
        "      vers = allensdk.__version__\n",
        "      vers_message = \"AllenSDK installed version seems to be:\\n  \" + vers + \"\\n\"\n",
        "      print(vers_message)\n",
        "\n",
        "      dist_info_dir_name = \"allensdk-\" + vers + \".dist-info\"\n",
        "      full_path_dist_info_dir_name = os.path.join(a_site_dir_name, dist_info_dir_name) \n",
        "      b_message = \"AllenSDK dist-info directory name:\\n  \" + full_path_dist_info_dir_name + \"\\n\\nContents of dist-info dir:\"\n",
        "      print(b_message)\n",
        "      !ls {full_path_dist_info_dir_name}/\n",
        "if allensdk_was_found == False:\n",
        "  failed_message = \"AllenSDK does not appear to be installed for Python \" + platform.python_version()[0]\n",
        "  print(failed_message)"
      ],
      "execution_count": 0,
      "outputs": []
    },
    {
      "metadata": {
        "id": "0pnQY3i9gQRH",
        "colab_type": "text"
      },
      "cell_type": "markdown",
      "source": [
        "# Test AllenSDK Install Sanity\n"
      ]
    },
    {
      "metadata": {
        "id": "Fo23g0aS3vlN",
        "colab_type": "text"
      },
      "cell_type": "markdown",
      "source": [
        "This is a trivial sanity checker to confirm that [`AllenSDK`](https://github.com/AllenInstitute/AllenSDK) is installed and working within a machine. This can be quite useful on Colab (and the like) where VMs are getting tossed away on a regular, frequent schedule. Just run this cell and if `fetched_data` is an array with one more elements and there are no errors, one can assume `AllenSDK` is a happy camper."
      ]
    },
    {
      "metadata": {
        "id": "NwvtJuoxdoYH",
        "colab_type": "text"
      },
      "cell_type": "markdown",
      "source": [
        "If this next cell throws `ModuleNotFoundError` that is an indication that `AllenSDK` is not installed."
      ]
    },
    {
      "metadata": {
        "id": "5dnlLM0OgX6j",
        "colab_type": "code",
        "outputId": "68515d76-7c13-4d48-bafa-29142b70c769",
        "colab": {
          "base_uri": "https://localhost:8080/",
          "height": 34
        }
      },
      "cell_type": "code",
      "source": [
        "# Perform a simple test query against AIBS' public RESTful API\n",
        "#\n",
        "# TODO: Intentionally defeated cache? or complexing issues, are we here?\n",
        "#   Maybe a network test snippet would be good. With random string in the query criteria\n",
        "\n",
        "from allensdk.api.queries.rma_api import RmaApi\n",
        "\n",
        "rma = RmaApi()\n",
        "\n",
        "fetched_data = rma.model_query('Atlas', criteria=\"[name$il'*Human*']\")\n",
        "if len(fetched_data) > 0:\n",
        "  print( \"Length of fetched_data: \", (len(fetched_data)) )\n",
        "else:\n",
        "  print( \"WARNING: Zero data records fetched. Probably a failure.\" )"
      ],
      "execution_count": 0,
      "outputs": [
        {
          "output_type": "stream",
          "text": [
            "Length of fetched_data:  6\n"
          ],
          "name": "stdout"
        }
      ]
    }
  ]
}