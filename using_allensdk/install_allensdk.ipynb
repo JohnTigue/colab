{
  "nbformat": 4,
  "nbformat_minor": 0,
  "metadata": {
    "colab": {
      "name": "Install_allensdk.ipynb",
      "version": "0.3.2",
      "provenance": []
    },
    "kernelspec": {
      "name": "python3",
      "display_name": "Python 3"
    }
  },
  "cells": [
    {
      "metadata": {
        "id": "1s3hXGvTET_6",
        "colab_type": "text"
      },
      "cell_type": "markdown",
      "source": [
        "This notebook, `Install_allensdk.ipynb`, simply installs [`AllenSDK`](https://github.com/AllenInstitute/AllenSDK). Doing it this way (as a separate file) is useful when working with the [Allen SWDB repo's](https://github.com/AllenInstitute/SWDB_2018) notebooks, which assume that `AllenSDK` is already installed. I.e. in order to get an arbitrary as-found SWDB notebook to work in Colab a `!pip install allensdk` line is required, in every notebook file. This file is how to hack around that issue.\n",
        "\n"
      ]
    },
    {
      "metadata": {
        "id": "_Dl8Nf6h5m3k",
        "colab_type": "code",
        "colab": {}
      },
      "cell_type": "code",
      "source": [
        "!pip install allensdk\n",
        "\n",
        "#from allensdk.api.queries.rma_api import RmaApi\n",
        "#rma = RmaApi()\n",
        "\n",
        "import sys\n",
        "\n",
        "print()\n",
        "if 'allensdk' in sys.modules:\n",
        "  print(\"AllenSDK is installed.\")\n",
        "else:\n",
        "  print(\"AllenSDK is NOT install.\")"
      ],
      "execution_count": 0,
      "outputs": []
    },
    {
      "metadata": {
        "id": "lADoVcBaB4Ug",
        "colab_type": "text"
      },
      "cell_type": "markdown",
      "source": [
        "TODO: can I do the 'allensdk' in sys.modules first, and only !pip if not found?"
      ]
    }
  ]
}