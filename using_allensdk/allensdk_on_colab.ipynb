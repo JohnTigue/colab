{
  "nbformat": 4,
  "nbformat_minor": 0,
  "metadata": {
    "colab": {
      "name": "allensdk_on_colab.ipynb",
      "version": "0.3.2",
      "provenance": [],
      "collapsed_sections": []
    },
    "kernelspec": {
      "name": "python3",
      "display_name": "Python 3"
    }
  },
  "cells": [
    {
      "metadata": {
        "id": "kqXzLT24yvSt",
        "colab_type": "text"
      },
      "cell_type": "markdown",
      "source": [
        "**TODO:**\n",
        "Now that I'm figuring out how custom snippets work in Colab, I'm starting to believe that the sanity checker, [allensdk_sanity_check.ipynb](https://colab.research.google.com/drive/1Px_aDlPto8h6zJDaq_YcFouLbEXkNlZL#scrollTo=xFFslxTuEZYY) should be in here too. But if, at it seems, they allow \"Custom snippet notebook URL\" to have multiple values, then either way works. But all together is cleaner/simpler.\n",
        "\n",
        "\n"
      ]
    },
    {
      "metadata": {
        "id": "1s3hXGvTET_6",
        "colab_type": "text"
      },
      "cell_type": "markdown",
      "source": [
        "This notebook, `install_allensdk.ipynb`, simply installs [`AllenSDK`](https://github.com/AllenInstitute/AllenSDK). Doing it this way (as a separate file) is useful when working with the [Allen SWDB repo's](https://github.com/AllenInstitute/SWDB_2018) notebooks, which assume that `AllenSDK` is already installed. I.e. in order to get an arbitrary as-found-on-GitHub SWDB notebook to work in Colab a `!pip install allensdk` line is required, in every notebook file. This file is how to hack around that issue.\n",
        "\n",
        "This file's URL is also useful as a value for `Custom snippet notebook URL` in the `Tools=>Preferences...` menu. Set that up, and it's trivial to just insert the necessary set-up code into the SWDB notebooks. Assuming one of those notebooks, say [`BrainObservatory.ipynb`](https://github.com/AllenInstitute/SWDB_2018/blob/master/DynamicBrain/BrainObservatory.ipynb), were opened in Colab, then simply `Insert => Code snippet...` and search for `Install AllenSDK`. Run the resulting code cell, and the notebook should work on Colab. Your modification will not persist in the GitHub hosted repo. Ergo, a relatively easy way to play with the notebooks in that repo."
      ]
    },
    {
      "metadata": {
        "id": "54XxDX_28Nd-",
        "colab_type": "text"
      },
      "cell_type": "markdown",
      "source": [
        "## Install AllenSDK"
      ]
    },
    {
      "metadata": {
        "id": "_Dl8Nf6h5m3k",
        "colab_type": "code",
        "colab": {}
      },
      "cell_type": "code",
      "source": [
        "!pip install allensdk"
      ],
      "execution_count": 0,
      "outputs": []
    },
    {
      "metadata": {
        "id": "thlsIAosHZSF",
        "colab_type": "text"
      },
      "cell_type": "markdown",
      "source": [
        "**TODO:** can I only `!pip` if detect `AllenSDK` not installed?  Surely...\n",
        "\n",
        "Is there a way to check versions of packages?"
      ]
    },
    {
      "metadata": {
        "id": "lRxbaK9FyAyZ",
        "colab_type": "text"
      },
      "cell_type": "markdown",
      "source": [
        "## Uninstall AllenSDK\n"
      ]
    },
    {
      "metadata": {
        "id": "5F2xvFuJWuk1",
        "colab_type": "code",
        "outputId": "c3ed9a1f-2fc9-4697-918d-e30ed70da4d2",
        "colab": {
          "base_uri": "https://localhost:8080/",
          "height": 34
        }
      },
      "cell_type": "code",
      "source": [
        "!pip uninstall -y allensdk"
      ],
      "execution_count": 17,
      "outputs": [
        {
          "output_type": "stream",
          "text": [
            "\u001b[33mSkipping allensdk as it is not installed.\u001b[0m\n"
          ],
          "name": "stdout"
        }
      ]
    },
    {
      "metadata": {
        "id": "e2j3qcK9EGbM",
        "colab_type": "text"
      },
      "cell_type": "markdown",
      "source": [
        "Note that if AllenSDK is not installed then `pip uninstall -y allensdk` will return: \"Skipping allensdk as it is not installed.\""
      ]
    },
    {
      "metadata": {
        "id": "tyewTmdDEh1p",
        "colab_type": "text"
      },
      "cell_type": "markdown",
      "source": [
        "Note that the following sort of sequence can be confusing:\n",
        "\n",
        "1. Install`AllenSDK` (`pip install allensdk`)\n",
        "2. Instantiate some class, say, `allensdk.api.queries.rma_api`\n",
        "3. Uninstall `AllenSDK` (`pip uninstall allensdk`)\n",
        "4. Instantiate again `allensdk.api.queries.rma_api`\n",
        "\n",
        "It may come as a surprise that step #4 does not throw a `ModuleNotFoundError`. Point is `AllenSDK` was uninstalled but the Python runtime still had classes already parsed into the runtime. Those classes will persist until a runtime restart. So, if you really want to uninstall `AllenSDK` you might want to consider a runtime restart to really flush out the system. But that's true of Python in general; it is not an `AllenSDK` thing. \n",
        "\n",
        "(**TODO:** confirm these assumptions)\n"
      ]
    },
    {
      "metadata": {
        "id": "JQ-is79HhEMJ",
        "colab_type": "text"
      },
      "cell_type": "markdown",
      "source": [
        "## Check If AllenSDK Is Installed"
      ]
    },
    {
      "metadata": {
        "id": "YTWGIz4VrEFW",
        "colab_type": "code",
        "outputId": "f957ffd4-a607-43bf-b109-52f726f4c586",
        "colab": {
          "base_uri": "https://localhost:8080/",
          "height": 34
        }
      },
      "cell_type": "code",
      "source": [
        "import importlib.util\n",
        "import sys\n",
        "\n",
        "# See https://stackoverflow.com/a/41815890\n",
        "package_name = 'allensdk'\n",
        "\n",
        "spec = importlib.util.find_spec(package_name)\n",
        "if spec is None:\n",
        "    print(package_name +\" is NOT installed\")\n",
        "else:\n",
        "    print(package_name + \" is installed.\")"
      ],
      "execution_count": 2,
      "outputs": [
        {
          "output_type": "stream",
          "text": [
            "allensdk is NOT installed\n"
          ],
          "name": "stdout"
        }
      ]
    },
    {
      "metadata": {
        "id": "MHheITQ_HvZ2",
        "colab_type": "text"
      },
      "cell_type": "markdown",
      "source": [
        "Note that this can return a false result if `AllenSDK` classes were instantiated and then a `pip uninstall allensdk` is performed. This test will still report that `allensdk is installed.` until the runtime is restarted."
      ]
    },
    {
      "metadata": {
        "id": "FKiFzCrYXKrV",
        "colab_type": "text"
      },
      "cell_type": "markdown",
      "source": [
        "## Probe File System for AllenSDK Files\n",
        "From the output of the above `pip install` is seems packages are getting installed in `/usr/local/lib/python3.6/dist-packages` so might be interesting to see what `allensdk` related stuff shows up after a `pip install allensdk`. Two items usually show up, `allensdk` and an `allensdk-0.xy.z.dist-info` where x,y,z are digit charters corresponding to the version number installed. "
      ]
    },
    {
      "metadata": {
        "id": "Bj4uY9iKW56J",
        "colab_type": "code",
        "colab": {}
      },
      "cell_type": "code",
      "source": [
        "# Check dist-packages/ for allensdk*\n",
        "!ls /usr/local/lib/python3.6/dist-packages | grep \"allensdk\""
      ],
      "execution_count": 0,
      "outputs": []
    },
    {
      "metadata": {
        "id": "fhY6RYreaqMn",
        "colab_type": "code",
        "outputId": "8b11b4da-903e-40ab-ec83-ea5a7732dc99",
        "colab": {
          "base_uri": "https://localhost:8080/",
          "height": 67
        }
      },
      "cell_type": "code",
      "source": [
        "# Peek in allensdk/\n",
        "!ls /usr/local/lib/python3.6/dist-packages/allensdk"
      ],
      "execution_count": 0,
      "outputs": [
        {
          "output_type": "stream",
          "text": [
            "api\t\t   core\t\t  __init__.py  __pycache__\n",
            "brain_observatory  deprecated.py  model        test_utilities\n",
            "config\t\t   ephys\t  morphology\n"
          ],
          "name": "stdout"
        }
      ]
    },
    {
      "metadata": {
        "id": "Ox9bZbqKbE93",
        "colab_type": "code",
        "outputId": "6fe54399-8d31-4d39-96e5-33f84dace49a",
        "colab": {
          "base_uri": "https://localhost:8080/",
          "height": 34
        }
      },
      "cell_type": "code",
      "source": [
        "\n",
        "!ls /usr/local/lib/python3.6/dist-packages/allensdk-0.16.1.dist-info"
      ],
      "execution_count": 0,
      "outputs": [
        {
          "output_type": "stream",
          "text": [
            "INSTALLER  LICENSE.txt\tMETADATA  RECORD  top_level.txt  WHEEL\n"
          ],
          "name": "stdout"
        }
      ]
    },
    {
      "metadata": {
        "id": "0pnQY3i9gQRH",
        "colab_type": "text"
      },
      "cell_type": "markdown",
      "source": [
        "# Test AllenSDK Install Sanity\n"
      ]
    },
    {
      "metadata": {
        "id": "Fo23g0aS3vlN",
        "colab_type": "text"
      },
      "cell_type": "markdown",
      "source": [
        "This is a trivial sanity checker to confirm that [`AllenSDK`](https://github.com/AllenInstitute/AllenSDK) is installed and working within a machine. This can be quite useful on Colab (and the like) where VMs are getting tossed away on a regular, frequent schedule. Just run this cell and if `fetched_data` is an array with one more elements and there are no errors, one can assume `AllenSDK` is a happy camper."
      ]
    },
    {
      "metadata": {
        "id": "NwvtJuoxdoYH",
        "colab_type": "text"
      },
      "cell_type": "markdown",
      "source": [
        "If this next cell throws `ModuleNotFoundError` that is an indication that `AllenSDK` is not installed."
      ]
    },
    {
      "metadata": {
        "id": "5dnlLM0OgX6j",
        "colab_type": "code",
        "outputId": "68515d76-7c13-4d48-bafa-29142b70c769",
        "colab": {
          "base_uri": "https://localhost:8080/",
          "height": 34
        }
      },
      "cell_type": "code",
      "source": [
        "# Perform a simple test query against AIBS' public RESTful API\n",
        "#\n",
        "# TODO: Intentionally defeated cache? or complexing issues, are we here?\n",
        "#   Maybe a network test snippet would be good. With random string in the query criteria\n",
        "\n",
        "from allensdk.api.queries.rma_api import RmaApi\n",
        "\n",
        "rma = RmaApi()\n",
        "\n",
        "fetched_data = rma.model_query('Atlas', criteria=\"[name$il'*Human*']\")\n",
        "if len(fetched_data) > 0:\n",
        "  print( \"Length of fetched_data: \", (len(fetched_data)) )\n",
        "else:\n",
        "  print( \"WARNING: Zero data records fetched. Probably a failure.\" )"
      ],
      "execution_count": 12,
      "outputs": [
        {
          "output_type": "stream",
          "text": [
            "Length of fetched_data:  6\n"
          ],
          "name": "stdout"
        }
      ]
    }
  ]
}