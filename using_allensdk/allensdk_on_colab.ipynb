{
  "nbformat": 4,
  "nbformat_minor": 0,
  "metadata": {
    "colab": {
      "name": "allensdk_on_colab.ipynb",
      "version": "0.3.2",
      "provenance": [],
      "collapsed_sections": [],
      "toc_visible": true
    },
    "kernelspec": {
      "name": "python3",
      "display_name": "Python 3"
    }
  },
  "cells": [
    {
      "metadata": {
        "id": "1s3hXGvTET_6",
        "colab_type": "text"
      },
      "cell_type": "markdown",
      "source": [
        "# AllenSDK on Colab\n",
        "\n",
        "This notebook, `allensdk_on_colab.ipynb`, is simply a collections of snippets for installing/uninstalled [`AllenSDK`](https://github.com/AllenInstitute/AllenSDK) and tools to test installs. \n",
        "\n",
        "This notebook reads well enough as one sequential story but the text is really designed to read well when read as individual snippets, in Colab's Code snippet insert dialog.\n",
        "\n",
        "These snippets were tested on Colab for both Python 2 and Python 3 new notebooks.\n",
        "\n",
        "## Motivation\n",
        "Having these snippets in their own separate notebook is useful when working with the [Allen SWDB repo's](https://github.com/AllenInstitute/SWDB_2018) notebooks, which assume that [`AllenSDK` is already installed](http://alleninstitute.github.io/AllenSDK/install.html#installation-with-docker-optional). That is, in order to get an arbitrary, as-found-on-GitHub SWDB notebook to work in Colab, a `!pip install allensdk` line is required – in every notebook file. (Unlike [Binder](https://mybinder.org/), Colab does not model a whole git repo of notebooks, only individual notebook files). This file makes the work-around to be trivially repeat as needed. The `pip install` is just one line, the real value here is more the collection of debug tools that come in handy if set-up is not going well.\n",
        "\n",
        "## Install this file as Colab custom snippets\n",
        "The most convenient way to use this file is to grab its URL (something along the lines of `https://colab.research.google.com\\...`) and use it as a value for `Custom snippet notebook URL`, which can be set in the dialog that comes up upon selecting `Tools=>Preferences...` from the menus. Set that up, and it's trivial to just insert the necessary set-up code into the SWDB notebooks. Assuming one of those notebooks, say [`BrainObservatory.ipynb`](https://github.com/AllenInstitute/SWDB_2018/blob/master/DynamicBrain/BrainObservatory.ipynb), were opened in Colab, then simply `Insert => Code snippet...` and search for `allensdk` and the following come up:\n",
        "\n",
        "![allensdk_snippets_in_menu](https://raw.githubusercontent.com/JohnTigue/colab-ing/master/images/allensdk_snippets_in_colab.png =330x280)\n",
        "\n",
        "Insert `Install AllenSDK` and run the resulting code cell, and the Allen SWDB notebook should work on Colab. Your modification will not persist in the GitHub hosted repo. Ergo, a relatively easy way to play with the notebooks in that repo."
      ]
    },
    {
      "metadata": {
        "id": "54XxDX_28Nd-",
        "colab_type": "text"
      },
      "cell_type": "markdown",
      "source": [
        "# Install AllenSDK\n",
        "\n",
        "So this is text above the code cell. DOes it show?"
      ]
    },
    {
      "metadata": {
        "id": "_Dl8Nf6h5m3k",
        "colab_type": "code",
        "colab": {}
      },
      "cell_type": "code",
      "source": [
        "# One liner install of AllenSDK\n",
        "!pip install allensdk"
      ],
      "execution_count": 0,
      "outputs": []
    },
    {
      "metadata": {
        "id": "thlsIAosHZSF",
        "colab_type": "text"
      },
      "cell_type": "markdown",
      "source": [
        "**TODO:** consider only `!pip` if detect `AllenSDK` not installed."
      ]
    },
    {
      "metadata": {
        "id": "lRxbaK9FyAyZ",
        "colab_type": "text"
      },
      "cell_type": "markdown",
      "source": [
        "# Uninstall AllenSDK\n"
      ]
    },
    {
      "metadata": {
        "id": "5F2xvFuJWuk1",
        "colab_type": "code",
        "colab": {}
      },
      "cell_type": "code",
      "source": [
        "# One liner uninstall of AllenSDK, --yes only works with pip >= 7.1.2\n",
        "!pip uninstall --yes allensdk"
      ],
      "execution_count": 0,
      "outputs": []
    },
    {
      "metadata": {
        "id": "e2j3qcK9EGbM",
        "colab_type": "text"
      },
      "cell_type": "markdown",
      "source": [
        "Note that if AllenSDK is not installed then `pip uninstall -yes allensdk` will return: \"Skipping allensdk as it is not installed.\""
      ]
    },
    {
      "metadata": {
        "id": "tjxeCcd3H0xx",
        "colab_type": "text"
      },
      "cell_type": "markdown",
      "source": [
        "The `--yes` option works with [pip version 7.1.2](https://stackoverflow.com/a/33557016) and above, and is used here to avoid things hanging at a confirmation dialog (A \"Do ya really wanna uninstall all these dependencies?\" sort of thing.)"
      ]
    },
    {
      "metadata": {
        "id": "tyewTmdDEh1p",
        "colab_type": "text"
      },
      "cell_type": "markdown",
      "source": [
        "Note that the following sort of sequence can be confusing:\n",
        "\n",
        "1. Install`AllenSDK` (`pip install allensdk`)\n",
        "2. Instantiate some class, say, `allensdk.api.queries.rma_api`\n",
        "3. Uninstall `AllenSDK` (`pip uninstall allensdk`)\n",
        "4. Instantiate again `allensdk.api.queries.rma_api`\n",
        "\n",
        "It may come as a surprise that step #4 does not throw a `ModuleNotFoundError`. Point is `AllenSDK` was uninstalled but the Python runtime still had classes already parsed into the runtime. Those classes will persist until a runtime restart. So, if you really want to uninstall `AllenSDK` you might want to consider a runtime restart to really flush out the system. But that's true of Python in general; it is not an `AllenSDK` thing. \n",
        "\n",
        "(**TODO:** confirm these assumptions)\n"
      ]
    },
    {
      "metadata": {
        "id": "JQ-is79HhEMJ",
        "colab_type": "text"
      },
      "cell_type": "markdown",
      "source": [
        "# Check If AllenSDK Is Installed (Python2)"
      ]
    },
    {
      "metadata": {
        "id": "9IEOKSKcjUIH",
        "colab_type": "code",
        "outputId": "f53975e2-9de1-46f9-ed02-b40ec15d3da1",
        "colab": {
          "base_uri": "https://localhost:8080/",
          "height": 35
        }
      },
      "cell_type": "code",
      "source": [
        "# Python2: Check If AllenSDK Is Installed\n",
        "# via https://stackoverflow.com/a/14050282\n",
        "import imp\n",
        "import pkg_resources\n",
        "\n",
        "try:\n",
        "    imp.find_module('allensdk')\n",
        "    found = True\n",
        "except ImportError:\n",
        "    found = False\n",
        "    \n",
        "if found is True:\n",
        "    import allensdk\n",
        "    vers = allensdk.__version__\n",
        "    message = \"AllenSDK is installed. Version: \" + vers\n",
        "    print(message)\n",
        "else:\n",
        "    print(\"AllenSDK is NOT installed\")"
      ],
      "execution_count": 0,
      "outputs": [
        {
          "output_type": "stream",
          "text": [
            "AllenSDK is installed. Version: 0.16.2\n"
          ],
          "name": "stdout"
        }
      ]
    },
    {
      "metadata": {
        "id": "fqDxx43KwFvX",
        "colab_type": "text"
      },
      "cell_type": "markdown",
      "source": [
        "# Check If AllenSDK Is Installed (Python3)"
      ]
    },
    {
      "metadata": {
        "id": "YTWGIz4VrEFW",
        "colab_type": "code",
        "outputId": "287e048f-877d-414a-e117-85c1b5c5ec89",
        "colab": {
          "base_uri": "https://localhost:8080/",
          "height": 35
        }
      },
      "cell_type": "code",
      "source": [
        "# Python3: Check If AllenSDK Is Installed\n",
        "import importlib.util\n",
        "import pkg_resources\n",
        "import sys\n",
        "\n",
        "# See https://stackoverflow.com/a/41815890\n",
        "package_name = \"allensdk\"\n",
        "\n",
        "spec = importlib.util.find_spec(package_name)\n",
        "if spec is None:\n",
        "    print(package_name +\" is NOT installed\")\n",
        "else:\n",
        "    print(\"%s (version: %s) is installed.\" % (package_name, pkg_resources.get_distribution(\"allensdk\").version))"
      ],
      "execution_count": 0,
      "outputs": [
        {
          "output_type": "stream",
          "text": [
            "allensdk (version: 0.16.2) is installed.\n"
          ],
          "name": "stdout"
        }
      ]
    },
    {
      "metadata": {
        "id": "MHheITQ_HvZ2",
        "colab_type": "text"
      },
      "cell_type": "markdown",
      "source": [
        "Note that this can return a false result if `AllenSDK` classes were instantiated followed by a `pip uninstall allensdk`. This test will still report that `allensdk is installed.` until the runtime is restarted.\n",
        "\n",
        "Note, if this Python3 code is run inside Python2, then the result will be `ImportError: No module named util`."
      ]
    },
    {
      "metadata": {
        "id": "FKiFzCrYXKrV",
        "colab_type": "text"
      },
      "cell_type": "markdown",
      "source": [
        "# Probe File System for AllenSDK Files\n",
        "From the output of the above `pip install` is seems packages are getting installed in `/usr/local/lib/python3.6/dist-packages` so might be interesting to see what `allensdk` related stuff shows up after a `pip install allensdk`. Two items usually show up, `allensdk` and an `allensdk-0.xy.z.dist-info` where x,y,z are digit charters corresponding to the version number installed. "
      ]
    },
    {
      "metadata": {
        "id": "d70hYQgfCGuS",
        "colab_type": "code",
        "colab": {
          "base_uri": "https://localhost:8080/",
          "height": 208
        },
        "outputId": "017dd99b-f045-4c5a-da75-8d46c6c61a66"
      },
      "cell_type": "code",
      "source": [
        "# Probe File System for AllenSDK Files\n",
        "import site\n",
        "import os\n",
        "\n",
        "sites = site.getsitepackages()\n",
        "for a_site_dir_name in sites:\n",
        "  if os.path.isdir(a_site_dir_name):\n",
        "    maybe_allensdk_install_dir = os.path.join(a_site_dir_name, \"allensdk\")\n",
        "    if os.path.isdir(maybe_allensdk_install_dir):\n",
        "      a_message = \"AllenSDK looks to be installed in:\\n  \" + maybe_allensdk_install_dir + \"\\n\"\n",
        "      print(a_message)\n",
        "      \n",
        "      import allensdk\n",
        "      vers = allensdk.__version__\n",
        "      vers_message = \"AllenSDK installed version seems to be:\\n  \" + vers + \"\\n\"\n",
        "      print(vers_message)\n",
        "\n",
        "      dist_info_dir_name = \"allensdk-\" + vers + \".dist-info\"\n",
        "      full_path_dist_info_dir_name = os.path.join(a_site_dir_name, dist_info_dir_name) \n",
        "      b_message = \"AllenSDK dist-info directory name:\\n  \" + full_path_dist_info_dir_name + \"\\n\\nContents of dist-info dir:\"\n",
        "      print(b_message)\n",
        "      !ls {full_path_dist_info_dir_name}/\n"
      ],
      "execution_count": 32,
      "outputs": [
        {
          "output_type": "stream",
          "text": [
            "AllenSDK looks to be installed in:\n",
            "  /usr/local/lib/python3.6/dist-packages/allensdk\n",
            "\n",
            "AllenSDK installed version seems to be:\n",
            "  0.16.2\n",
            "\n",
            "AllenSDK dist-info directory name:\n",
            "  /usr/local/lib/python3.6/dist-packages/allensdk-0.16.2.dist-info\n",
            "\n",
            "Contents of dist-info dir:\n",
            "INSTALLER  LICENSE.txt\tMETADATA  RECORD  top_level.txt  WHEEL\n"
          ],
          "name": "stdout"
        }
      ]
    },
    {
      "metadata": {
        "id": "VdC5N5HMRsGX",
        "colab_type": "code",
        "colab": {}
      },
      "cell_type": "code",
      "source": [
        ""
      ],
      "execution_count": 0,
      "outputs": []
    },
    {
      "metadata": {
        "id": "0pnQY3i9gQRH",
        "colab_type": "text"
      },
      "cell_type": "markdown",
      "source": [
        "# Test AllenSDK Install Sanity\n"
      ]
    },
    {
      "metadata": {
        "id": "Fo23g0aS3vlN",
        "colab_type": "text"
      },
      "cell_type": "markdown",
      "source": [
        "This is a trivial sanity checker to confirm that [`AllenSDK`](https://github.com/AllenInstitute/AllenSDK) is installed and working within a machine. This can be quite useful on Colab (and the like) where VMs are getting tossed away on a regular, frequent schedule. Just run this cell and if `fetched_data` is an array with one more elements and there are no errors, one can assume `AllenSDK` is a happy camper."
      ]
    },
    {
      "metadata": {
        "id": "NwvtJuoxdoYH",
        "colab_type": "text"
      },
      "cell_type": "markdown",
      "source": [
        "If this next cell throws `ModuleNotFoundError` that is an indication that `AllenSDK` is not installed."
      ]
    },
    {
      "metadata": {
        "id": "5dnlLM0OgX6j",
        "colab_type": "code",
        "outputId": "68515d76-7c13-4d48-bafa-29142b70c769",
        "colab": {
          "base_uri": "https://localhost:8080/",
          "height": 34
        }
      },
      "cell_type": "code",
      "source": [
        "# Perform a simple test query against AIBS' public RESTful API\n",
        "#\n",
        "# TODO: Intentionally defeated cache? or complexing issues, are we here?\n",
        "#   Maybe a network test snippet would be good. With random string in the query criteria\n",
        "\n",
        "from allensdk.api.queries.rma_api import RmaApi\n",
        "\n",
        "rma = RmaApi()\n",
        "\n",
        "fetched_data = rma.model_query('Atlas', criteria=\"[name$il'*Human*']\")\n",
        "if len(fetched_data) > 0:\n",
        "  print( \"Length of fetched_data: \", (len(fetched_data)) )\n",
        "else:\n",
        "  print( \"WARNING: Zero data records fetched. Probably a failure.\" )"
      ],
      "execution_count": 0,
      "outputs": [
        {
          "output_type": "stream",
          "text": [
            "Length of fetched_data:  6\n"
          ],
          "name": "stdout"
        }
      ]
    }
  ]
}