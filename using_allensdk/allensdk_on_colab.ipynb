{
  "nbformat": 4,
  "nbformat_minor": 0,
  "metadata": {
    "colab": {
      "name": "install_allensdk.ipynb",
      "version": "0.3.2",
      "provenance": [],
      "collapsed_sections": [],
      "toc_visible": true
    },
    "kernelspec": {
      "name": "python3",
      "display_name": "Python 3"
    }
  },
  "cells": [
    {
      "metadata": {
        "id": "kqXzLT24yvSt",
        "colab_type": "text"
      },
      "cell_type": "markdown",
      "source": [
        "**TODO:**\n",
        "Now that I'm figuring out how custom snippets work in Colab, I'm starting to believe that the sanity checker, [allensdk_sanity_check.ipynb](https://colab.research.google.com/drive/1Px_aDlPto8h6zJDaq_YcFouLbEXkNlZL#scrollTo=xFFslxTuEZYY) should be in here too. But if, at it seems, they allow \"Custom snippet notebook URL\" to have multiple values, then either way works. But all together is cleaner/simpler.\n",
        "\n",
        "\n"
      ]
    },
    {
      "metadata": {
        "id": "1s3hXGvTET_6",
        "colab_type": "text"
      },
      "cell_type": "markdown",
      "source": [
        "This notebook, `install_allensdk.ipynb`, simply installs [`AllenSDK`](https://github.com/AllenInstitute/AllenSDK). Doing it this way (as a separate file) is useful when working with the [Allen SWDB repo's](https://github.com/AllenInstitute/SWDB_2018) notebooks, which assume that `AllenSDK` is already installed. I.e. in order to get an arbitrary as-found-on-GitHub SWDB notebook to work in Colab a `!pip install allensdk` line is required, in every notebook file. This file is how to hack around that issue.\n",
        "\n",
        "This file's URL is also useful as a value for `Custom snippet notebook URL` in the `Tools=>Preferences...` menu. Set that up, and it's trivial to just insert the necessary set-up code into the SWDB notebooks. Assuming one of those notebooks, say [`BrainObservatory.ipynb`](https://github.com/AllenInstitute/SWDB_2018/blob/master/DynamicBrain/BrainObservatory.ipynb), were opened in Colab, then simply `Insert => Code snippet...` and search for `Install AllenSDK`. Run the resulting code cell, and the notebook should work on Colab. Your modification will not persist in the GitHub hosted repo. Ergo, a relatively easy way to play with the notebooks in that repo."
      ]
    },
    {
      "metadata": {
        "id": "54XxDX_28Nd-",
        "colab_type": "text"
      },
      "cell_type": "markdown",
      "source": [
        "## Install AllenSDK"
      ]
    },
    {
      "metadata": {
        "id": "_Dl8Nf6h5m3k",
        "colab_type": "code",
        "outputId": "4c3dab25-c818-4bfe-9bd6-046ed876ff56",
        "colab": {
          "base_uri": "https://localhost:8080/",
          "height": 810
        }
      },
      "cell_type": "code",
      "source": [
        "!pip install allensdk"
      ],
      "execution_count": 5,
      "outputs": [
        {
          "output_type": "stream",
          "text": [
            "Collecting allensdk\n",
            "  Using cached https://files.pythonhosted.org/packages/a3/64/c906526758844617d3624e5854844de17156a989e8a0e2bae6c966c9087e/allensdk-0.16.2-py3-none-any.whl\n",
            "Requirement already satisfied: scikit-image>=0.14.0 in /usr/local/lib/python3.6/dist-packages (from allensdk) (0.14.2)\n",
            "Requirement already satisfied: requests-toolbelt in /usr/local/lib/python3.6/dist-packages (from allensdk) (0.9.1)\n",
            "Requirement already satisfied: tables>=3.5.1 in /usr/local/lib/python3.6/dist-packages (from allensdk) (3.5.1)\n",
            "Requirement already satisfied: simpleitk in /usr/local/lib/python3.6/dist-packages (from allensdk) (1.2.0)\n",
            "Requirement already satisfied: h5py>=2.8 in /usr/local/lib/python3.6/dist-packages (from allensdk) (2.8.0)\n",
            "Requirement already satisfied: future>=0.14.3 in /usr/local/lib/python3.6/dist-packages (from allensdk) (0.16.0)\n",
            "Requirement already satisfied: jinja2>=2.7.3 in /usr/local/lib/python3.6/dist-packages (from allensdk) (2.10.1)\n",
            "Requirement already satisfied: scipy>=0.15.1 in /usr/local/lib/python3.6/dist-packages (from allensdk) (1.2.1)\n",
            "Requirement already satisfied: matplotlib>=1.4.3 in /usr/local/lib/python3.6/dist-packages (from allensdk) (3.0.3)\n",
            "Requirement already satisfied: statsmodels>=0.8.0 in /usr/local/lib/python3.6/dist-packages (from allensdk) (0.9.0)\n",
            "Requirement already satisfied: requests in /usr/local/lib/python3.6/dist-packages (from allensdk) (2.21.0)\n",
            "Requirement already satisfied: scikit-build in /usr/local/lib/python3.6/dist-packages (from allensdk) (0.9.0)\n",
            "Requirement already satisfied: six>=1.9.0 in /usr/local/lib/python3.6/dist-packages (from allensdk) (1.12.0)\n",
            "Requirement already satisfied: pynrrd>=0.2.1 in /usr/local/lib/python3.6/dist-packages (from allensdk) (0.4.0)\n",
            "Requirement already satisfied: simplejson>=3.10.0 in /usr/local/lib/python3.6/dist-packages (from allensdk) (3.16.0)\n",
            "Requirement already satisfied: pandas>=0.23.0 in /usr/local/lib/python3.6/dist-packages (from allensdk) (0.24.2)\n",
            "Requirement already satisfied: numpy>=1.15.4 in /usr/local/lib/python3.6/dist-packages (from allensdk) (1.16.3)\n",
            "Requirement already satisfied: cloudpickle>=0.2.1 in /usr/local/lib/python3.6/dist-packages (from scikit-image>=0.14.0->allensdk) (0.6.1)\n",
            "Requirement already satisfied: PyWavelets>=0.4.0 in /usr/local/lib/python3.6/dist-packages (from scikit-image>=0.14.0->allensdk) (1.0.3)\n",
            "Requirement already satisfied: dask[array]>=1.0.0 in /usr/local/lib/python3.6/dist-packages (from scikit-image>=0.14.0->allensdk) (1.1.5)\n",
            "Requirement already satisfied: pillow>=4.3.0 in /usr/local/lib/python3.6/dist-packages (from scikit-image>=0.14.0->allensdk) (4.3.0)\n",
            "Requirement already satisfied: networkx>=1.8 in /usr/local/lib/python3.6/dist-packages (from scikit-image>=0.14.0->allensdk) (2.3)\n",
            "Requirement already satisfied: numexpr>=2.6.2 in /usr/local/lib/python3.6/dist-packages (from tables>=3.5.1->allensdk) (2.6.9)\n",
            "Requirement already satisfied: mock>=2.0 in /usr/local/lib/python3.6/dist-packages (from tables>=3.5.1->allensdk) (2.0.0)\n",
            "Requirement already satisfied: MarkupSafe>=0.23 in /usr/local/lib/python3.6/dist-packages (from jinja2>=2.7.3->allensdk) (1.1.1)\n",
            "Requirement already satisfied: cycler>=0.10 in /usr/local/lib/python3.6/dist-packages (from matplotlib>=1.4.3->allensdk) (0.10.0)\n",
            "Requirement already satisfied: pyparsing!=2.0.4,!=2.1.2,!=2.1.6,>=2.0.1 in /usr/local/lib/python3.6/dist-packages (from matplotlib>=1.4.3->allensdk) (2.4.0)\n",
            "Requirement already satisfied: python-dateutil>=2.1 in /usr/local/lib/python3.6/dist-packages (from matplotlib>=1.4.3->allensdk) (2.5.3)\n",
            "Requirement already satisfied: kiwisolver>=1.0.1 in /usr/local/lib/python3.6/dist-packages (from matplotlib>=1.4.3->allensdk) (1.0.1)\n",
            "Requirement already satisfied: patsy in /usr/local/lib/python3.6/dist-packages (from statsmodels>=0.8.0->allensdk) (0.5.1)\n",
            "Requirement already satisfied: chardet<3.1.0,>=3.0.2 in /usr/local/lib/python3.6/dist-packages (from requests->allensdk) (3.0.4)\n",
            "Requirement already satisfied: certifi>=2017.4.17 in /usr/local/lib/python3.6/dist-packages (from requests->allensdk) (2019.3.9)\n",
            "Requirement already satisfied: idna<2.9,>=2.5 in /usr/local/lib/python3.6/dist-packages (from requests->allensdk) (2.8)\n",
            "Requirement already satisfied: urllib3<1.25,>=1.21.1 in /usr/local/lib/python3.6/dist-packages (from requests->allensdk) (1.24.2)\n",
            "Requirement already satisfied: wheel>=0.29.0 in /usr/local/lib/python3.6/dist-packages (from scikit-build->allensdk) (0.33.1)\n",
            "Requirement already satisfied: setuptools>=28.0.0 in /usr/local/lib/python3.6/dist-packages (from scikit-build->allensdk) (40.9.0)\n",
            "Requirement already satisfied: packaging in /usr/local/lib/python3.6/dist-packages (from scikit-build->allensdk) (19.0)\n",
            "Requirement already satisfied: pytz>=2011k in /usr/local/lib/python3.6/dist-packages (from pandas>=0.23.0->allensdk) (2018.9)\n",
            "Requirement already satisfied: toolz>=0.7.3; extra == \"array\" in /usr/local/lib/python3.6/dist-packages (from dask[array]>=1.0.0->scikit-image>=0.14.0->allensdk) (0.9.0)\n",
            "Requirement already satisfied: olefile in /usr/local/lib/python3.6/dist-packages (from pillow>=4.3.0->scikit-image>=0.14.0->allensdk) (0.46)\n",
            "Requirement already satisfied: decorator>=4.3.0 in /usr/local/lib/python3.6/dist-packages (from networkx>=1.8->scikit-image>=0.14.0->allensdk) (4.4.0)\n",
            "Requirement already satisfied: pbr>=0.11 in /usr/local/lib/python3.6/dist-packages (from mock>=2.0->tables>=3.5.1->allensdk) (5.1.3)\n",
            "Installing collected packages: allensdk\n",
            "Successfully installed allensdk-0.16.2\n"
          ],
          "name": "stdout"
        }
      ]
    },
    {
      "metadata": {
        "id": "lRxbaK9FyAyZ",
        "colab_type": "text"
      },
      "cell_type": "markdown",
      "source": [
        "## Uninstall AllenSDK\n"
      ]
    },
    {
      "metadata": {
        "id": "5F2xvFuJWuk1",
        "colab_type": "code",
        "colab": {
          "base_uri": "https://localhost:8080/",
          "height": 50
        },
        "outputId": "9fb28b27-f0ca-451a-a40e-a4bca801a4cc"
      },
      "cell_type": "code",
      "source": [
        "!pip uninstall -y allensdk"
      ],
      "execution_count": 17,
      "outputs": [
        {
          "output_type": "stream",
          "text": [
            "Uninstalling allensdk-0.16.2:\n",
            "  Successfully uninstalled allensdk-0.16.2\n"
          ],
          "name": "stdout"
        }
      ]
    },
    {
      "metadata": {
        "id": "JQ-is79HhEMJ",
        "colab_type": "text"
      },
      "cell_type": "markdown",
      "source": [
        "## Check If AllenSDK Is Installed"
      ]
    },
    {
      "metadata": {
        "id": "XS8aYY1Cq_5y",
        "colab_type": "text"
      },
      "cell_type": "markdown",
      "source": [
        "OK, well, try another way: https://stackoverflow.com/a/41815890"
      ]
    },
    {
      "metadata": {
        "id": "YTWGIz4VrEFW",
        "colab_type": "code",
        "colab": {
          "base_uri": "https://localhost:8080/",
          "height": 34
        },
        "outputId": "17c7774e-d18e-4386-bd1e-ac5d7bcec80a"
      },
      "cell_type": "code",
      "source": [
        "import importlib.util\n",
        "import sys\n",
        "\n",
        "# For illustrative purposes.\n",
        "package_name = 'allensdk'\n",
        "\n",
        "spec = importlib.util.find_spec(package_name)\n",
        "if spec is None:\n",
        "    print(package_name +\" is NOT installed\")\n",
        "else:\n",
        "    print(package_name + \" is installed.\")"
      ],
      "execution_count": 7,
      "outputs": [
        {
          "output_type": "stream",
          "text": [
            "allensdk is installed.\n"
          ],
          "name": "stdout"
        }
      ]
    },
    {
      "metadata": {
        "id": "lADoVcBaB4Ug",
        "colab_type": "text"
      },
      "cell_type": "markdown",
      "source": [
        "**TODO:** can I do the 'allensdk' in sys.modules first, and only !pip if not found? Is there a way to check versions of packages? Surely..."
      ]
    },
    {
      "metadata": {
        "id": "FKiFzCrYXKrV",
        "colab_type": "text"
      },
      "cell_type": "markdown",
      "source": [
        "## Probe file system for AllenSDK files\n",
        "From the output of the above `pip install` is seems packages are getting installed in `/usr/local/lib/python3.6/dist-packages` so might be interesting to see what `allensdk` related stuff shows up after a `pip install allensdk`. Two items usually show up, `allensdk` and an `allensdk-0.xy.z.dist-info` where x,y,z are digit charters corresponding to the version number installed. "
      ]
    },
    {
      "metadata": {
        "id": "Bj4uY9iKW56J",
        "colab_type": "code",
        "colab": {}
      },
      "cell_type": "code",
      "source": [
        "# Check dist-packages/ for allensdk*\n",
        "!ls /usr/local/lib/python3.6/dist-packages | grep \"allensdk\""
      ],
      "execution_count": 0,
      "outputs": []
    },
    {
      "metadata": {
        "id": "fhY6RYreaqMn",
        "colab_type": "code",
        "colab": {
          "base_uri": "https://localhost:8080/",
          "height": 67
        },
        "outputId": "8b11b4da-903e-40ab-ec83-ea5a7732dc99"
      },
      "cell_type": "code",
      "source": [
        "# Peek in allensdk/\n",
        "!ls /usr/local/lib/python3.6/dist-packages/allensdk"
      ],
      "execution_count": 12,
      "outputs": [
        {
          "output_type": "stream",
          "text": [
            "api\t\t   core\t\t  __init__.py  __pycache__\n",
            "brain_observatory  deprecated.py  model        test_utilities\n",
            "config\t\t   ephys\t  morphology\n"
          ],
          "name": "stdout"
        }
      ]
    },
    {
      "metadata": {
        "id": "Ox9bZbqKbE93",
        "colab_type": "code",
        "colab": {
          "base_uri": "https://localhost:8080/",
          "height": 34
        },
        "outputId": "6fe54399-8d31-4d39-96e5-33f84dace49a"
      },
      "cell_type": "code",
      "source": [
        "\n",
        "!ls /usr/local/lib/python3.6/dist-packages/allensdk-0.16.1.dist-info"
      ],
      "execution_count": 13,
      "outputs": [
        {
          "output_type": "stream",
          "text": [
            "INSTALLER  LICENSE.txt\tMETADATA  RECORD  top_level.txt  WHEEL\n"
          ],
          "name": "stdout"
        }
      ]
    },
    {
      "metadata": {
        "id": "0pnQY3i9gQRH",
        "colab_type": "text"
      },
      "cell_type": "markdown",
      "source": [
        "# Test AllenSDK Install\n"
      ]
    },
    {
      "metadata": {
        "id": "NwvtJuoxdoYH",
        "colab_type": "text"
      },
      "cell_type": "markdown",
      "source": [
        "If this next cell throws `ModuleNotFoundError` that is an indication that `AllenSDK` is not installed."
      ]
    },
    {
      "metadata": {
        "id": "5dnlLM0OgX6j",
        "colab_type": "code",
        "colab": {
          "base_uri": "https://localhost:8080/",
          "height": 34
        },
        "outputId": "93255d5b-45b8-428b-a88e-2b3a932d1a15"
      },
      "cell_type": "code",
      "source": [
        "# Perform a simple test query against AIBS' public RESTful API\n",
        "#\n",
        "# TODO: Intentionally defeated cache? or complexing issues, are we here?\n",
        "#   Maybe a network test snippet would be good. With random string in the query criteria\n",
        "\n",
        "from allensdk.api.queries.rma_api import RmaApi\n",
        "\n",
        "rma = RmaApi()\n",
        "\n",
        "fetched_data = rma.model_query('Atlas', criteria=\"[name$il'*Human*']\")\n",
        "if len(fetched_data) > 0:\n",
        "  print( \"Length of fetched_data: \", (len(fetched_data)) )\n",
        "else:\n",
        "  print( \"WARNING: Zero data records fetched. Probably a failure.\" )"
      ],
      "execution_count": 20,
      "outputs": [
        {
          "output_type": "stream",
          "text": [
            "Length of fetched_data:  6\n"
          ],
          "name": "stdout"
        }
      ]
    }
  ]
}