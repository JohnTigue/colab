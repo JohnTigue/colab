{
  "nbformat": 4,
  "nbformat_minor": 0,
  "metadata": {
    "colab": {
      "name": "index.ipynb",
      "version": "0.3.2",
      "provenance": [],
      "collapsed_sections": []
    },
    "kernelspec": {
      "name": "python3",
      "display_name": "Python 3"
    }
  },
  "cells": [
    {
      "cell_type": "markdown",
      "metadata": {
        "id": "pUWcg1yf5SS7",
        "colab_type": "text"
      },
      "source": [
        "# Colab utils\n",
        "\n",
        "This repo, [JohnTigue/colab-utils](https://github.com/JohnTigue/colab-utils), is a collection of Jupyter notebooks that were built out for the sole goal of being useful on Colab.\n",
        "\n",
        "There are two directories of interest:\n",
        "* `probings/`: one-off learning tests to probe the state of the VM\n",
        "* `tools/`: Actually useful stuff that is designed to be reusable\n",
        "\n",
        "## Tools\n",
        "`tools/` is the most useful directory in this repository. In this document \"tools\" means Jupyter notebooks and snippets that  `!pip install` as needed and then perform some useful task on Colab.\n",
        "\n",
        "* [`colab_vm_config_info.ipynb`](https://colab.research.google.com/github/JohnTigue/colab-ing/blob/master/tools/colab_vm_config_info.ipynb): various snippets to understand how the VM is configured\n",
        "*  [`allensdk_on_colab.ipynb`](https://colab.research.google.com/github/JohnTigue/colab-ing/blob/master/tools/allensdk_on_colab.ipynb): snippets for working with [AIBS'](https://alleninstitute.org) data\n",
        "* [`ssh_on_colab.ipynb.ipynb`](https://colab.research.google.com/github/JohnTigue/colab-ing/blob/master/tools/ssh_on_colab.ipynb.ipynb): how to ssh into the VM\n",
        "\n",
        "## Probings\n",
        "\n",
        "The `tests` directory contains less refined one-off and scraps, but are still useful bits of information about what's going on under the hood in Colab.\n",
        "\n",
        "* absolute_minimal.ipynb: very, very minimal `.ipynb` file\n",
        "* authored_in_colab.ipynb: shows what Colab generates for new notebooks\n",
        "* scratch_snippets.ipynb: code that ended up on the cutting room floor\n",
        "* unit_testing.ipynb: A repo? With no tests? Tsk-tsk.\n",
        "\n",
        "## Colab juxtaposed with Binder\n",
        "\n",
        "Colab and Binder are similar but there are subtle differences, beyond the open (Binder) versus closed (Colab) source issue. Of course, Google is giving away an addictively useful service with Colab and much of the closed source is for dialing Jupyter to their service. So, if you need more freedom, go get a free temporary VM at https://mybinder.org, where you bring your own code and as such can do anything. Of course, there are no free GPUs and TPUs on mybinder.org.\n",
        "\n",
        "### Terminology\n",
        "Herein, the follow terms are used:\n",
        "* \"Colab\" means colab.research.google.com \n",
        "* \"Binder\" means the free Binder service hosted at mybinder.org\n",
        "\n",
        "### Similarities\n",
        "* both  give a user a temporary virtual machine (VM)\n",
        "\n",
        "### Differences\n",
        "* Colab only models independent notebook files.\n",
        "* Binder models a repo full of notebooks in a single Docker image.\n",
        "\n",
        "This means that cross-notebook connections are less powerful on Colab than on Binder."
      ]
    }
  ]
}