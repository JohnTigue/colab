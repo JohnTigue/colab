{
  "nbformat": 4,
  "nbformat_minor": 0,
  "metadata": {
    "colab": {
      "name": "index.ipynb",
      "version": "0.3.2",
      "provenance": [],
      "collapsed_sections": []
    },
    "kernelspec": {
      "name": "python3",
      "display_name": "Python 3"
    }
  },
  "cells": [
    {
      "metadata": {
        "id": "pUWcg1yf5SS7",
        "colab_type": "text"
      },
      "cell_type": "markdown",
      "source": [
        "# Colab tools and tests for the VM\n",
        "\n",
        "This repo is a collection of Jypyter notebooks that were built out for the sole goal of being useful on Colab.\n",
        "* Tests to probe the state of the VM\n",
        "* Basic tools that build atop the Colab platform\n",
        "\n",
        "## Tools\n",
        "In this document \"tools\" means Jupyter notebooks that  `!pip install` as needed and then perform some useful task on Colab.\n",
        "\n",
        "* [colab_vm_tests.ipynb](https://colab.research.google.com/github/JohnTigue/colab-ing/blob/master/tools/colab_vm_config_info.ipynb): A file of code cells usable as a Colab custom widgets URL file. This is the single most useful file in this repo.\n",
        "\n",
        "## Tests\n",
        "\n",
        "The `tests` directory contains less refined one-off and scraps, but are still useful bits of information about what's going on under the hood in Colab.\n",
        "\n",
        "* absolute_minimal.ipynb: very, very minimal `.ipynb` file\n",
        "* authored_in_colab.ipynb: shows what Colab generates for new notebooks\n",
        "* scratch_snippets.ipynb: code that ended up on the cutting room floor\n",
        "* unit_testing.ipynb: A repo? With no tests? tsk-tsk\n",
        "\n",
        "## Colab juxtaposed with Binder\n",
        "\n",
        "Colab and Binder are similar but there are subtle differences.\n",
        "\n",
        "### Terminology\n",
        "Herein, the follow terms are used:\n",
        "* \"Colab\" means colab.research.google.com \n",
        "* \"Binder\" means the free Binder service hosted at mybinder.org\n",
        "\n",
        "### Similarities\n",
        "* both  give a user a temporary virtual machine (VM).\n",
        "\n",
        "### Differences\n",
        "* Colab only models independent notebook files.\n",
        "* Binder models a repo full of notebooks in a single Docker image.\n",
        "\n",
        "This means that cross-notebook connections are less powerful on Colab than on Binder."
      ]
    },
    {
      "metadata": {
        "id": "RkbyyyHi5FW8",
        "colab_type": "code",
        "colab": {}
      },
      "cell_type": "code",
      "source": [
        "\n"
      ],
      "execution_count": 0,
      "outputs": []
    }
  ]
}